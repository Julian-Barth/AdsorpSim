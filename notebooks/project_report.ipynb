{
 "cells": [
  {
   "cell_type": "markdown",
   "id": "5347e290",
   "metadata": {},
   "source": [
    "# ***AdsorpSim*** \n",
    "## The ultimate tool for carbon capture !\n",
    "\n",
    "#### Julian Barth, Marin Desgeans, Lucas Eichenberger\n",
    "\n",
    "\n",
    "   "
   ]
  },
  {
   "cell_type": "markdown",
   "id": "be507a56",
   "metadata": {},
   "source": [
    "<div style=\"text-align: center;\">\n",
    "<img src=\"./images/Asterix.jpg\" alt=\"UI\" width=\"600\"/>\n",
    "</div>\n",
    "\n",
    "Welcome to our documentation notebook for the package ***AdsorpSim***, an open source tool designed to generate breakthrough curves for direct air capture (DAC) of CO₂. It plays a critical role in tuning carbon capture machines and identifying the optimal adsorption time, accelerating the journey toward efficient climate solutions. It's an open source alternative to expensive softwares!\n",
    "\n",
    "You may find below the table of contents to get a glimpse on the global structure of our project.\n",
    "\n",
    "***Table of Contents***\n",
    "\n",
    "1. Introduction\n",
    "2. Presentation of the functions\n",
    "3. Presentation and extraction of data\n",
    "4. Presentation of the UI and the different app's tools \n",
    "5. Conclusion ?\n",
    "6. Acknowledgments\n"
   ]
  },
  {
   "cell_type": "markdown",
   "id": "968d3e0a",
   "metadata": {},
   "source": [
    "### 1. Introduction\n",
    "The fight against climate change is urgent and relentless. To limit global warming to **1.5°C**, the world must remove over **10 billion tons of CO₂ every year by 2050**. That means not only cutting current emissions, but also dealing with past emissions that remain in the atmosphere. Technologies that actively remove CO₂ from the air are no longer optional: they’re essential.\n",
    "\n",
    "One of the most promising of these technologies is Direct Air Capture (DAC), which captures CO₂ directly from the air, where it exists at extremely low concentrations, **around 400 parts per million**. That makes the challenge particularly difficult: extracting a trace gas from a massive volume of air requires both smart materials and smart system design.\n",
    "\n",
    "At EPFL, the Carbon Team, a student-led group, is tackling this challenge head-on. One of its prototype systems, named Asterix (see picture above), captures CO₂ using **solid adsorbents**: materials that selectively trap CO₂ as air flows through them. These systems rely on a packed adsorbent bed, typically modeled as a cylindrical column filled with porous particles. As air is pushed through the column, CO₂ is gradually removed until the adsorbent becomes saturated.\n",
    "\n",
    "<figure style=\"text-align: center;\">\n",
    "  <img src=\"./images/FlowSheet.png\" alt=\"Flow Diagram\" style=\"max-width: 600px; width: 100%; height: auto;\" />\n",
    "  <figcaption> Schematic of the Carbon team's full process (we will only focus on Asterix).</figcaption>\n",
    "</figure>\n",
    "\n",
    "**Designing such systems is complex**. Performance depends on many variables: the type of adsorbent, the bed height, particle size, flow rate, inlet concentration, and more. Building and testing every possible configuration in the lab would be time-consuming and expensive.\n",
    "\n",
    "**That’s where our project comes in.**\n",
    "\n",
    "We developed an interactive, open-source simulator that lets the Carbon Team experiment with different system designs and adsorbent materials, all in a matter of seconds. With this tool, users can:\n",
    "\n",
    "- Simulate CO₂ adsorption over time using different materials\n",
    "- Modify system parameters like bed dimensions, particle diameter, and inlet flow rate\n",
    "- Visualize performance using a breakthrough curve\n",
    "- Estimate the total amount of CO₂ captured over a specified period\n",
    "\n",
    "The breakthrough curve is a key output of the simulator. It shows how the outlet CO₂ concentration changes over time. At the start, the adsorbent captures nearly all the CO₂, so the outlet concentration is near zero. As the bed becomes saturated, CO₂ begins to break through — hence the name. This curve is fundamental for assessing the efficiency and capacity of the system.\n",
    "\n",
    "One of the simulator’s biggest strengths is that it’s **open-source and easily customizable**. Unlike commercial alternatives such as Aspen Adsorption, which costs up to $20,000 per year and offers limited flexibility, our tool is free to use, modify, and share. That makes it ideal for student teams, researchers, and early-stage innovators who need speed, flexibility, and transparency.\n",
    "\n",
    "---"
   ]
  },
  {
   "cell_type": "markdown",
   "id": "315fd4bc",
   "metadata": {},
   "source": [
    "\n",
    "### 2. Approach to the problem\n",
    "\n",
    "### A little theory: Modelling of an adsobant bed\n",
    "\n",
    "#### Langmuir Isotherm Explanation\n",
    "\n",
    "The **Langmuir Isotherm** describes how molecules adsorb onto a solid surface forming a monolayer. It assumes:\n",
    "\n",
    "- A fixed number of adsorption sites,  \n",
    "- Each site holds at most one molecule,  \n",
    "- No interaction between adsorbed molecules.\n",
    "\n",
    "The equilibrium adsorbed amount $q_{eq}$ relates to the gas-phase concentration $C$ as:\n",
    "\n",
    "$$\n",
    "q_{eq} = \\frac{q_{\\max} K C}{1 + K C}\n",
    "$$\n",
    "\n",
    "where:\n",
    "\n",
    "- $q_{eq}$ is the equilibrium adsorbed amount (mol/kg),  \n",
    "- $q_{\\max}$ is the maximum adsorption capacity (monolayer coverage),  \n",
    "- $K$ the Langmuir equilibrium constant (related to affinity),  \n",
    "- $C$ is the gas-phase concentration (e.g., mol/m³).\n",
    "\n",
    "\n",
    "#### Spacial discretization of the adsorbant bed\n",
    "\n",
    "An adsorbant bed has the geometry of a cylinder. To numerically simulate adsorption along it, we discretize it into multiple segments (`num_segments`). Concentration gradients are approximated by **upwind finite differences**, assuming plug flow (no axial mixing):\n",
    "\n",
    "$$\n",
    "\\frac{\\partial C}{\\partial z} \\approx \\frac{C_i - C_{i-1}}{\\Delta z}\n",
    "$$\n",
    "\n",
    "where\n",
    "\n",
    "$$\n",
    "\\Delta z = \\frac{\\text{bed length}}{\\text{number of segments}}\n",
    "$$\n",
    "\n",
    "This spatial discretization transforms PDEs into ODEs solvable by standard methods.\n",
    "\n",
    "\n",
    "#### Mathematical Model Summary\n",
    "\n",
    "And now for the mother of all equations: **mass balance**.\n",
    "\n",
    "For each gas component (CO₂ or H₂O), the mass balance in segment i is:\n",
    "\n",
    "$$\n",
    "\\frac{dC_i}{dt} = -v \\frac{C_i - C_{i-1}}{\\Delta z} - \\rho_b \\frac{dq_i}{dt}\n",
    "$$\n",
    "\n",
    "where:\n",
    "\n",
    "- $C_i$: concentration in segment $i$ ($mol/m^3$),  \n",
    "- $v$: superficial gas velocity ($m/s$),\n",
    "- $\\Delta z$: segment length ($m$),  \n",
    "- $\\rho_b$: bulk density of adsorbent ($kg/m^3$),  \n",
    "- $q_i$: adsorbed amount in segment $i$, evolving by Langmuir kinetics ($mol/m^3$):  \n",
    "\n",
    "$$\\frac{dq_i}{dt} = k_{\\text{ads}} (q_{eq,i} - q_i)$$\n",
    "\n",
    "\n",
    "with $q_{eq,i}$ given by the Langmuir isotherm and $k_{ads}$ the adosprtion rate constant (1/s)"
   ]
  },
  {
   "cell_type": "markdown",
   "id": "496bdfcc",
   "metadata": {},
   "source": [
    "So how does that translate to code?\n",
    "\n",
    "### Workflow\n",
    "\n",
    "Let's first understand the experiment workflow.\n",
    "\n",
    "\n",
    "1) The user first **defines an adsorbent** by specifying its Langmuir parameters (e.g., maximum adsorption capacity, equilibrium constant, adsorption rate, and density).\n",
    "\n",
    "2) The user **initializes a bed** by providing its geometry, flow conditions, the adsorbent object and optionally humidity. Spacial discretization parameters are given.\n",
    "\n",
    "3) The user calls the **`simulate()` method** to run the adsorption process over the specified time. \n",
    "\n",
    "4) The simulation outputs concentration profiles at the bed outlet, which the user can **plot and analyze** (e.g., breakthrough curves for CO₂ and H₂O).\n",
    "\n",
    "<figure style=\"text-align: center;\">\n",
    "  <img src=\"./images/schema.png\" alt=\"Flow Diagram\" style=\"max-width: 300px; width: 100%; height: auto;\" />\n",
    "  <figcaption> Simplified process flow scheme</figcaption>\n",
    "</figure>"
   ]
  },
  {
   "cell_type": "markdown",
   "id": "79dd2968",
   "metadata": {},
   "source": [
    "#### How to Use\n",
    "\n",
    "Enough theory: let's get to coding!\n",
    "\n",
    "**Step 1** : Let's import the right libraries, the needed classes and our different functions."
   ]
  },
  {
   "cell_type": "code",
   "execution_count": 80,
   "id": "09a1281d",
   "metadata": {},
   "outputs": [],
   "source": [
    "%matplotlib inline\n",
    "import sys\n",
    "from pathlib import Path\n",
    "import streamlit as st\n",
    "import numpy as np\n",
    "import matplotlib.pyplot as plt\n",
    "from scipy.integrate import solve_ivp\n",
    "import pandas as pd\n",
    "import os\n",
    "\n",
    "from adsorpsim import (\n",
    "    Adsorbent_Langmuir,\n",
    "    Bed,\n",
    "    download_data,\n",
    "    get_percentage_point,\n",
    "    plot_the_graph,\n",
    "    add_adsorbent_to_list,\n",
    "    get_adsorbed_quantity_CO2,\n",
    "    get_adsorbed_quantity_H2O,\n",
    "    fit_adsorption_parameters_from_csv,\n",
    ")"
   ]
  },
  {
   "cell_type": "markdown",
   "id": "73ee688c",
   "metadata": {},
   "source": [
    "**Step 2** : Let's define an adsorbent. We define an object of the `Adsorbent_ Langmuir` class, filling in the properties using the Langmuir model. We'll use the example of activated carbon. "
   ]
  },
  {
   "cell_type": "code",
   "execution_count": 81,
   "id": "248cc723",
   "metadata": {},
   "outputs": [],
   "source": [
    "carbon = Adsorbent_Langmuir(\n",
    "    name=\"Activated Carbon\",\n",
    "    q_max_CO2=4.5, #mol/kg\n",
    "    K_CO2=0.2, #1/(mol/m^3)\n",
    "    k_ads_CO2=15, #(1/s)\n",
    "    density=500, #kg/m^3\n",
    "    q_max_H2O=4.0, #mol/kg\n",
    "    K_H2O=0.1, #1/(mol/m^3)\n",
    "    k_ads_H2O=0.5 #(1/s)\n",
    "    )"
   ]
  },
  {
   "cell_type": "markdown",
   "id": "2d267b35",
   "metadata": {},
   "source": [
    "**Step 3** : Set up the reactor. With the adsorbent object ready, we can now configure a packed-bed reactor to model the breakthrough curve by filling in the `Bed` class. The code, will use the data given to calculate velocity, segment size and inital gas concentratinos. Concentration and adsoption arrays are also initialized. We will start by modelling adsorption with dry air, and the reactor used by the Carbon Team"
   ]
  },
  {
   "cell_type": "code",
   "execution_count": 82,
   "id": "078ce631",
   "metadata": {},
   "outputs": [],
   "source": [
    "Reactor = Bed(\n",
    "    length=1.0, # m\n",
    "    diameter=0.1, # m \n",
    "    flow_rate=0.01, # m/s\n",
    "    num_segments=100, # discretization parameter\n",
    "    total_time=1000, # s\n",
    "    adsorbent=carbon, #Adsrobent_Langmuir object\n",
    ")"
   ]
  },
  {
   "cell_type": "markdown",
   "id": "3555fa77",
   "metadata": {},
   "source": [
    "**Step 4** : Let’s run the simulation using the `simulate()` method. The code converts the PDE describing concentration changes into ODEs using spatial discretization and solves them over time. This is achieved using  the integration feature from Scipy. This will generate 2 arrays: time and the concentration of CO2 at the outlet in mol/m^3. "
   ]
  },
  {
   "cell_type": "code",
   "execution_count": 83,
   "id": "39f551c1",
   "metadata": {},
   "outputs": [
    {
     "name": "stdout",
     "output_type": "stream",
     "text": [
      "t: [0.       1.001001 2.002002 3.003003 4.004004]\n",
      "outlet_CO2: [0.00000000e+000 1.29624864e-134 1.00868127e-126 4.92876587e-121\n",
      " 1.07018127e-113]\n"
     ]
    }
   ],
   "source": [
    "t, outlet_CO2, outlet_H2O = Reactor.simulate()\n",
    "\n",
    "print(\"t:\", t[:5])\n",
    "print(\"outlet_CO2:\", outlet_CO2[:5])"
   ]
  },
  {
   "cell_type": "markdown",
   "id": "90a431bf",
   "metadata": {},
   "source": [
    "We now need to make some sene out of this data. After discussion with the Carbon Team, and important criteria for them is to identify the saturation level of adsorbant (in %), to find the optimal adsorption time. The `get_percentage_point`function find the corresponding point on the curve (time, outlet CO2 concentration). "
   ]
  },
  {
   "cell_type": "code",
   "execution_count": 84,
   "id": "204d8e3e",
   "metadata": {},
   "outputs": [],
   "source": [
    "wanted_percentage=90\n",
    "pc_point_time, pc_point_concentration = get_percentage_point(wanted_percentage,t,outlet_CO2)"
   ]
  },
  {
   "cell_type": "markdown",
   "id": "1543b05d",
   "metadata": {},
   "source": [
    "We now have the needed variables to draw the curve !"
   ]
  },
  {
   "cell_type": "code",
   "execution_count": null,
   "id": "e9cddc60",
   "metadata": {},
   "outputs": [
    {
     "data": {
      "image/png": "[encoded data removed]",
      "text/plain": [
       "<Figure size 800x500 with 1 Axes>"
      ]
     },
     "metadata": {},
     "output_type": "display_data"
    }
   ],
   "source": [
    "fig=plot_the_graph(t,outlet_CO2,outlet_H2O, pc_point_time, pc_point_concentration)"
   ]
  },
  {
   "cell_type": "markdown",
   "id": "9c03e757",
   "metadata": {},
   "source": [
    "**Step 5** Now that we know when the system reaches our desired saturation, we can compute the amount of CO₂ captured. This also gives us the experiment time. "
   ]
  },
  {
   "cell_type": "code",
   "execution_count": 22,
   "id": "61a58247",
   "metadata": {},
   "outputs": [
    {
     "name": "stdout",
     "output_type": "stream",
     "text": [
      "1.0 [kg] of CO₂ is adsorbed in one cycle of 6.66 [min]\n"
     ]
    }
   ],
   "source": [
    "adsorbed_quantity_CO2=get_adsorbed_quantity_CO2(outlet_CO2,pc_point_time,pc_point_concentration,Reactor.flow_rate)\n",
    "print(f\"{round(adsorbed_quantity_CO2*0.044009, 2)} [kg] of CO₂ is adsorbed in one cycle of {round(pc_point_x/60, 2)} [min]\")"
   ]
  },
  {
   "cell_type": "markdown",
   "id": "b215069d",
   "metadata": {},
   "source": [
    "If we change the wanted percentage of saturated adsorbent, the value changes"
   ]
  },
  {
   "cell_type": "code",
   "execution_count": 62,
   "id": "d0b85e42",
   "metadata": {},
   "outputs": [
    {
     "name": "stdout",
     "output_type": "stream",
     "text": [
      "0.89 [kg] of CO₂ is adsorbed in one cycle of 6.02 [min]\n"
     ]
    }
   ],
   "source": [
    "wanted_percentage=60\n",
    "pc_point_x, pc_point_y = get_percentage_point(wanted_percentage,t,outlet_CO2)\n",
    "adsorbed_quantity_CO2=get_adsorbed_quantity_CO2(outlet_CO2,pc_point_x,pc_point_y,Reactor.flow_rate)\n",
    "print(f\"{round(adsorbed_quantity_CO2*0.044009, 2)} [kg] of CO₂ is adsorbed in one cycle of {round(pc_point_x/60, 2)} [min]\")"
   ]
  },
  {
   "cell_type": "markdown",
   "id": "1f91b8d7",
   "metadata": {},
   "source": [
    "By a similar procedure, we can also display the quantity of adsorbed water"
   ]
  },
  {
   "cell_type": "code",
   "execution_count": 195,
   "id": "2e472582",
   "metadata": {},
   "outputs": [
    {
     "name": "stdout",
     "output_type": "stream",
     "text": [
      "1.0 [kg] of CO₂ and 0.1 [kg] of H₂O are adsorbed in one cycle of 6.66 [min]\n"
     ]
    },
    {
     "data": {
      "image/png": "[encoded data removed]",
      "text/plain": [
       "<Figure size 800x500 with 1 Axes>"
      ]
     },
     "metadata": {},
     "output_type": "display_data"
    }
   ],
   "source": [
    "wet_reactor = Bed(\n",
    "    length=1.0,\n",
    "    diameter=0.1,\n",
    "    flow_rate=0.01,\n",
    "    num_segments=100,\n",
    "    total_time=1000,\n",
    "    adsorbent=carbon,\n",
    "    humidity_percentage=50\n",
    ")\n",
    "\n",
    "t, outlet_CO2, outlet_H2O = wet_reactor.simulate()\n",
    "\n",
    "wanted_percentage=90\n",
    "pc_point_x, pc_point_y = get_percentage_point(wanted_percentage,t,outlet_CO2)\n",
    "fig=plot_the_graph(t,outlet_CO2,outlet_H2O,pc_point_x,pc_point_y)\n",
    "\n",
    "adsorbed_quantity_CO2=get_adsorbed_quantity_CO2(outlet_CO2,pc_point_x,pc_point_y,wet_reactor.flow_rate)\n",
    "adsorbed_quantity_H2O=get_adsorbed_quantity_H2O(outlet_CO2,outlet_H2O,wet_reactor.humidity_percentage,pc_point_x,pc_point_y,wet_reactor.flow_rate)\n",
    "print(f\"{round(adsorbed_quantity_CO2*0.044009, 2)} [kg] of CO₂ and {round(adsorbed_quantity_H2O*0.018015, 2)} [kg] of H₂O are adsorbed in one cycle of {round(pc_point_x/60, 2)} [min]\")"
   ]
  },
  {
   "cell_type": "markdown",
   "id": "9c8e17d1",
   "metadata": {},
   "source": [
    "### The \"Adsorpsim\" app\n",
    "\n",
    "Now that we have presented how our code works, we will present how we made the different possibilities of our project user friendly via a streamlit interface. \n",
    "\n"
   ]
  },
  {
   "cell_type": "markdown",
   "id": "d528558f",
   "metadata": {},
   "source": [
    "### 3.Presentation and extraction of the data\n",
    "\n",
    "The data for this app is presented in the csv file: Dataset PPC.csv. This file contains a list of adsorbent and their physical properties needed to draw the breakthrough curve. The file is organised as follows: each row represents one adsorbent."
   ]
  },
  {
   "cell_type": "markdown",
   "id": "488db930",
   "metadata": {},
   "source": [
    "|name     | q_max | K0   | Ea   | k_ads | density |\n",
    "|--------------------|------|---------|---------|-------|--------|\n",
    "| Activated Carbon   | 2.0  | 20000.0 | 25000.0 | 0.01  | 1000.0 |\n",
    "| Activated Carbon2  | 1.0  | 10000.0 | 12500.0 | 0.02  | 500.0  |\n",
    "| Activated Carbon3  | 1.0  | 10000.0 | 12500.0 | 0.002 | 500.0  |\n"
   ]
  },
  {
   "cell_type": "markdown",
   "id": "87e7fcac",
   "metadata": {},
   "source": [
    "The loading of the data is essential for the proper functionning of the app. Additionnaly, a dictionnary indexed by the adsorbent's name is created with an entry for each adsorbent. This dictionnary will be used to display the good physical constants for the graph when one or another adsorbent is chosen on the list.\n",
    "\n",
    "Additionally, a list of the adsorbents' names is created. This list will be used to propose to the user the usage of the different adsorbents."
   ]
  },
  {
   "cell_type": "markdown",
   "id": "65f67b03",
   "metadata": {},
   "source": [
    "### 4. Presentation of the UI and the different app's tools \n",
    "\n",
    "In this chapter, the different elements in the user's interface and their utility will be described as follows: \n",
    "\n",
    "<ol type=\"a\">\n",
    "    <li> The bed parameters modifications </li>\n",
    "    <li> The adsorbent parameters modifications</li>\n",
    "    <li> The plotting of the graph</li>\n",
    "    <li> The adsorbed quantity of carbon dioxide</li>\n",
    "    <li> The possibility to add an adsorbent to the data</li> \n",
    "</ol>"
   ]
  },
  {
   "cell_type": "markdown",
   "id": "7c2e24ef",
   "metadata": {},
   "source": [
    "#### a. The bed parameters modifications\n",
    "\n",
    "<div style=\"text-align: center;\">\n",
    "<img src=\"Bed.png\" alt=\"UI\" width=\"400\"/>\n",
    "</div>"
   ]
  },
  {
   "cell_type": "markdown",
   "id": "e66ab6e4",
   "metadata": {},
   "source": [
    "The user is let to choose the bed parameters. This parameters are defined by different sliders with maximum and minimum values. The temperature is defined with a \"number_input\" widget. \n",
    "\n",
    "The bed length and diameter changes the volume of the installation whiyh changes the total quantity of adsorbent as we assume that the bed is full of material. \n",
    "\n",
    "The flowrates influence the speed at which the air is let trhough the cartridge. For optimal results, the flowrate should not exceed the speed of the adsorption reaction. \n",
    "\n",
    "The number of segments determines the discretisation of the bed. A higher number of esegemnts will allow more precise results but implies more complex calculations.\n",
    "\n",
    "The total time determines the time of the experiment. \n",
    "\n",
    "T is the temperature of the experiment. Colder temperatures will favorize adsorption while hotter temperature will accelerate the desorption.\n",
    "\n",
    "And finally, the \"percentage_CO2\" is defined between 1 and 100% and represents the desired percentage of adsorbent saturated in CO₂. This value is used to calculate the coordinates of the red cross. "
   ]
  },
  {
   "cell_type": "markdown",
   "id": "32c19254",
   "metadata": {},
   "source": [
    "#### b. The adsorbent parameters modifications\n",
    "\n",
    "<div style=\"text-align: center;\">\n",
    "<img src=\"List.png\" alt=\"UI\" width=\"400\"/>\n",
    "</div>"
   ]
  },
  {
   "cell_type": "markdown",
   "id": "e1243c2c",
   "metadata": {},
   "source": [
    "Five physical properties are mandatory for each adsorbent:\n",
    "\n",
    "-q_max represents...\n",
    "\n",
    "-K0 ...\n",
    "\n",
    "-Ea is the activation energy of the adsorbent, ...\n",
    "\n",
    "-k_ads ...\n",
    "\n",
    "-density is the density of the adsorbent is directly proportionate to the quantity of adsorbent in one cartridge.\n",
    "\n",
    "The user is let to choose one adsorbent among the different species present in the dataset. Each adsorbent is linked to its properties: choosing one will automatically insert the good values for each physical property. \n",
    "\n",
    "The user also have the choice to choose \"Manual Modifications\". In this case, the user can modify the different parameters from the user's interface and curve will adapt with the implemented values."
   ]
  },
  {
   "cell_type": "markdown",
   "id": "2afd180a",
   "metadata": {},
   "source": [
    "#### c. The plotting of the graph\n",
    "\n",
    "<div style=\"text-align: center;\">\n",
    "<img src=\"Graph.png\" alt=\"UI\" width=\"400\"/>\n",
    "</div>"
   ]
  },
  {
   "cell_type": "markdown",
   "id": "b4539901",
   "metadata": {},
   "source": [
    "Different previously presented functions are called to draw the breakthrough curve. The red cross is here observed at the point were 90% of the adsorbent is saturated in CO₂."
   ]
  },
  {
   "cell_type": "markdown",
   "id": "000eee0c",
   "metadata": {},
   "source": [
    "#### d. The adsorbed quantity of carbon dioxide\n",
    "\n",
    "<div style=\"text-align: center;\">\n",
    "<img src=\"Quantities.png\" alt=\"UI\" width=\"400\"/>\n",
    "</div>"
   ]
  },
  {
   "cell_type": "markdown",
   "id": "7ccf4dc0",
   "metadata": {},
   "source": [
    "The adsorbed quantity of CO₂ is calculated in moles using the previously presented function. The quantity in kilogramms is easily calculated using CO₂ molar mass. The needed time, which corresponds to the x coordinate of the red cross is also displayed. \n",
    "\n",
    "All these values are impacted by both the bed and the adsorbent parameters. Changing on of them will directly recalculate the different quantities, exhibiting the efficiency of the chosen system. "
   ]
  },
  {
   "cell_type": "markdown",
   "id": "2fcdf0bc",
   "metadata": {},
   "source": [
    "#### e. The possibility to add an adsorbent to the data\n",
    "\n",
    "<div style=\"text-align: center;\">\n",
    "<img src=\"Add.png\" alt=\"UI\" width=\"400\"/>\n",
    "</div>"
   ]
  },
  {
   "cell_type": "markdown",
   "id": "6b8d53bd",
   "metadata": {},
   "source": [
    "Finally, the user is let to add an adsorbent to the list directly from the app. In order to do this, he must fill the differents widgets, giving the name and the physical properties of the adsorbent. If he forgets one an error message will show up, otherwise, the adsorbent will successfully be added to the dataset and will be available for usage after a quick refresh of the page."
   ]
  },
  {
   "cell_type": "markdown",
   "id": "e628cf76",
   "metadata": {},
   "source": [
    "#### f. The possibility to deduct an adsorbent's parameters from a experimental breakthrough curve"
   ]
  },
  {
   "cell_type": "markdown",
   "id": "9628490b",
   "metadata": {},
   "source": [
    "### 5. Conclusion\n",
    "\n"
   ]
  },
  {
   "cell_type": "markdown",
   "id": "87a73c33",
   "metadata": {},
   "source": [
    "### 6. Acknowledgments\n",
    "\n",
    "We thank the **EPFL Carbon Team**, especially the Chemistry subteam Panoramix, for providing experimental data acquired in **Professor Wendy Queen’s** lab. Their contributions were essential for validating and grounding our simulator in real-world performance."
   ]
  }
 ],
 "metadata": {
  "kernelspec": {
   "display_name": "adsorpsim",
   "language": "python",
   "name": "python3"
  },
  "language_info": {
   "codemirror_mode": {
    "name": "ipython",
    "version": 3
   },
   "file_extension": ".py",
   "mimetype": "text/x-python",
   "name": "python",
   "nbconvert_exporter": "python",
   "pygments_lexer": "ipython3",
   "version": "3.10.16"
  }
 },
 "nbformat": 4,
 "nbformat_minor": 5
}
