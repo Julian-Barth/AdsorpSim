{
 "cells": [
  {
   "cell_type": "markdown",
   "id": "5347e290",
   "metadata": {},
   "source": [
    "# ***AdsorpSim*** \n",
    "## The ultimate tool for carbon capture !\n",
    "\n",
    "#### Julian Barth, Marin Desgeans, Lucas Eichenberger\n",
    "\n",
    "\n",
    "   "
   ]
  },
  {
   "cell_type": "markdown",
   "id": "be507a56",
   "metadata": {},
   "source": [
    "<div style=\"text-align: center;\">\n",
    "<img src=\"./images/Asterix.jpg\" alt=\"UI\" width=\"600\"/>\n",
    "</div>\n",
    "\n",
    "Welcome to our documentation notebook for the package ***AdsorpSim***, an open source tool designed to generate breakthrough curves for direct air capture (DAC) of CO₂. It plays a critical role in tuning carbon capture machines and identifying the optimal adsorption time, accelerating the journey toward efficient climate solutions. It's an open source alternative to expensive softwares!\n",
    "\n",
    "You may find below the table of contents to get a glimpse on the global structure of our project.\n",
    "\n",
    "***Table of Contents***\n",
    "\n",
    "1. Introduction\n",
    "2. Presentation of the functions\n",
    "3. Data Usage\n",
    "4. Presentation of the UI and the different app's tools \n",
    "5. Conclusion ?\n",
    "6. Acknowledgments\n"
   ]
  },
  {
   "cell_type": "markdown",
   "id": "968d3e0a",
   "metadata": {},
   "source": [
    "### 1. Introduction\n",
    "The fight against climate change is urgent and relentless. To limit global warming to **1.5°C**, the world must remove over **10 billion tons of CO₂ every year by 2050**. That means not only cutting current emissions, but also dealing with past emissions that remain in the atmosphere. Technologies that actively remove CO₂ from the air are no longer optional: they’re essential.\n",
    "\n",
    "One of the most promising of these technologies is Direct Air Capture (DAC), which captures CO₂ directly from the air, where it exists at extremely low concentrations, **around 400 parts per million**. That makes the challenge particularly difficult: extracting a trace gas from a massive volume of air requires both smart materials and smart system design.\n",
    "\n",
    "At EPFL, the Carbon Team, a student-led group, is tackling this challenge head-on. One of its prototype systems, named Asterix (see picture above), captures CO₂ using **solid adsorbents**: materials that selectively trap CO₂ as air flows through them. These systems rely on a packed adsorbent bed, typically modeled as a cylindrical column filled with porous particles. As air is pushed through the column, CO₂ is gradually removed until the adsorbent becomes saturated.\n",
    "\n",
    "<figure style=\"text-align: center;\">\n",
    "  <img src=\"./images/FlowSheet.png\" alt=\"Flow Diagram\" style=\"max-width: 600px; width: 100%; height: auto;\" />\n",
    "  <figcaption> Schematic of the Carbon team's full process (we will only focus on Asterix).</figcaption>\n",
    "</figure>\n",
    "\n",
    "**Designing such systems is complex**. Performance depends on many variables: the type of adsorbent, the bed height, particle size, flow rate, inlet concentration, and more. Building and testing every possible configuration in the lab would be time-consuming and expensive.\n",
    "\n",
    "**That’s where our project comes in.**\n",
    "\n",
    "We developed an interactive, open-source simulator that lets the Carbon Team experiment with different system designs and adsorbent materials, all in a matter of seconds. With this tool, users can:\n",
    "\n",
    "- Simulate CO₂ adsorption over time using different materials\n",
    "- Modify system parameters like bed dimensions, particle diameter, and inlet flow rate\n",
    "- Visualize performance using a breakthrough curve\n",
    "- Estimate the total amount of CO₂ captured over a specified period\n",
    "\n",
    "The breakthrough curve is a key output of the simulator. It shows how the outlet CO₂ concentration changes over time. At the start, the adsorbent captures nearly all the CO₂, so the outlet concentration is near zero. As the bed becomes saturated, CO₂ begins to break through — hence the name. This curve is fundamental for assessing the efficiency and capacity of the system.\n",
    "\n",
    "One of the simulator’s biggest strengths is that it’s **open-source and easily customizable**. Unlike commercial alternatives such as Aspen Adsorption, which costs up to $20,000 per year and offers limited flexibility, our tool is free to use, modify, and share. That makes it ideal for student teams, researchers, and early-stage innovators who need speed, flexibility, and transparency.\n",
    "\n",
    "---"
   ]
  },
  {
   "cell_type": "markdown",
   "id": "315fd4bc",
   "metadata": {},
   "source": [
    "\n",
    "### 2. Approach to the problem\n",
    "\n",
    "### A little theory: Modelling of an adsobant bed\n",
    "\n",
    "#### Langmuir Isotherm Explanation\n",
    "\n",
    "The **Langmuir Isotherm** describes how molecules adsorb onto a solid surface forming a monolayer. It assumes:\n",
    "\n",
    "- A fixed number of adsorption sites,  \n",
    "- Each site holds at most one molecule,  \n",
    "- No interaction between adsorbed molecules.\n",
    "\n",
    "The equilibrium adsorbed amount $q_{eq}$ relates to the gas-phase concentration $C$ as:\n",
    "\n",
    "$$\n",
    "q_{eq} = \\frac{q_{\\max} K C}{1 + K C}\n",
    "$$\n",
    "\n",
    "where:\n",
    "\n",
    "- $q_{eq}$ is the equilibrium adsorbed amount (mol/kg),  \n",
    "- $q_{\\max}$ is the maximum adsorption capacity (monolayer coverage),  \n",
    "- $K$ the Langmuir equilibrium constant (related to affinity),  \n",
    "- $C$ is the gas-phase concentration (e.g., mol/m³).\n",
    "\n",
    "\n",
    "#### Spacial discretization of the adsorbant bed\n",
    "\n",
    "An adsorbant bed has the geometry of a cylinder. To numerically simulate adsorption along it, we discretize it into multiple segments (`num_segments`). Concentration gradients are approximated by **upwind finite differences**, assuming plug flow (no axial mixing):\n",
    "\n",
    "$$\n",
    "\\frac{\\partial C}{\\partial z} \\approx \\frac{C_i - C_{i-1}}{\\Delta z}\n",
    "$$\n",
    "\n",
    "where\n",
    "\n",
    "$$\n",
    "\\Delta z = \\frac{\\text{bed length}}{\\text{number of segments}}\n",
    "$$\n",
    "\n",
    "This spatial discretization transforms PDEs into ODEs solvable by standard methods.\n",
    "\n",
    "\n",
    "#### Mathematical Model Summary\n",
    "\n",
    "And now for the mother of all equations: **mass balance**.\n",
    "\n",
    "For each gas component (CO₂ or H₂O), the mass balance in segment i is:\n",
    "\n",
    "$$\n",
    "\\frac{dC_i}{dt} = -v \\frac{C_i - C_{i-1}}{\\Delta z} - \\rho_b \\frac{dq_i}{dt}\n",
    "$$\n",
    "\n",
    "where:\n",
    "\n",
    "- $C_i$: concentration in segment $i$ ($mol/m^3$),  \n",
    "- $v$: superficial gas velocity ($m/s$),\n",
    "- $\\Delta z$: segment length ($m$),  \n",
    "- $\\rho_b$: bulk density of adsorbent ($kg/m^3$),  \n",
    "- $q_i$: adsorbed amount in segment $i$, evolving by Langmuir kinetics ($mol/m^3$):  \n",
    "\n",
    "$$\\frac{dq_i}{dt} = k_{\\text{ads}} (q_{eq,i} - q_i)$$\n",
    "\n",
    "\n",
    "with $q_{eq,i}$ given by the Langmuir isotherm and $k_{ads}$ the adosprtion rate constant (1/s)"
   ]
  },
  {
   "cell_type": "markdown",
   "id": "496bdfcc",
   "metadata": {},
   "source": [
    "So how does that translate to code?\n",
    "\n",
    "### Workflow\n",
    "\n",
    "Let's first understand the experiment workflow.\n",
    "\n",
    "\n",
    "1) The user first **defines an adsorbent** by specifying its Langmuir parameters (e.g., maximum adsorption capacity, equilibrium constant, adsorption rate, and density).\n",
    "\n",
    "2) The user **initializes a bed** by providing its geometry, flow conditions, the adsorbent object and optionally humidity. Spacial discretization parameters are given.\n",
    "\n",
    "3) The user calls the **`simulate()` method** to run the adsorption process over the specified time. \n",
    "\n",
    "4) The simulation outputs concentration profiles at the bed outlet, which the user can **plot and analyze** (e.g., breakthrough curves for CO₂ and H₂O).\n",
    "\n",
    "<figure style=\"text-align: center;\">\n",
    "  <img src=\"./images/schema.png\" alt=\"Flow Diagram\" style=\"max-width: 300px; width: 100%; height: auto;\" />\n",
    "  <figcaption> Simplified process flow scheme</figcaption>\n",
    "</figure>"
   ]
  },
  {
   "cell_type": "markdown",
   "id": "79dd2968",
   "metadata": {},
   "source": [
    "#### How to Use\n",
    "\n",
    "Enough theory: let's get to coding!\n",
    "\n",
    "**Step 1** : Let's import the right libraries, the needed classes and our different functions."
   ]
  },
  {
   "cell_type": "code",
   "execution_count": null,
   "id": "09a1281d",
   "metadata": {},
   "outputs": [],
   "source": [
    "%matplotlib inline\n",
    "import sys\n",
    "from pathlib import Path\n",
    "import streamlit as st\n",
    "import numpy as np\n",
    "import matplotlib.pyplot as plt\n",
    "from scipy.integrate import solve_ivp\n",
    "import pandas as pd\n",
    "import os\n",
    "\n",
    "from adsorpsim import (\n",
    "    Adsorbent_Langmuir,\n",
    "    Bed,\n",
    "    download_data,\n",
    "    get_percentage_point,\n",
    "    plot_the_graph,\n",
    "    add_adsorbent_to_list,\n",
    "    get_adsorbed_quantity_CO2,\n",
    "    get_adsorbed_quantity_H2O,\n",
    "    fit_adsorption_parameters_from_df,\n",
    "    load_adsorbent_from_csv\n",
    ")"
   ]
  },
  {
   "cell_type": "markdown",
   "id": "73ee688c",
   "metadata": {},
   "source": [
    "**Step 2** : Let's define an adsorbent. We define an object of the `Adsorbent_ Langmuir` class, filling in the properties using the Langmuir model. We'll use the example of activated carbon. "
   ]
  },
  {
   "cell_type": "code",
   "execution_count": null,
   "id": "248cc723",
   "metadata": {},
   "outputs": [],
   "source": [
    "carbon = Adsorbent_Langmuir(\n",
    "    name=\"Activated Carbon\",\n",
    "    q_max_CO2=4.5, #mol/kg\n",
    "    K_CO2=0.2, #1/(mol/m^3)\n",
    "    k_ads_CO2=15, #(1/s)\n",
    "    density=500, #kg/m^3\n",
    "    q_max_H2O=4.0, #mol/kg\n",
    "    K_H2O=0.1, #1/(mol/m^3)\n",
    "    k_ads_H2O=0.5 #(1/s)\n",
    "    )"
   ]
  },
  {
   "cell_type": "markdown",
   "id": "2d267b35",
   "metadata": {},
   "source": [
    "**Step 3** : Set up the reactor. With the adsorbent object ready, we can now configure a packed-bed reactor to model the breakthrough curve by filling in the `Bed` class. The code, will use the data given to calculate velocity, segment size and inital gas concentratinos. Concentration and adsoption arrays are also initialized. We will start by modelling adsorption with dry air, and the reactor used by the Carbon Team"
   ]
  },
  {
   "cell_type": "code",
   "execution_count": null,
   "id": "078ce631",
   "metadata": {},
   "outputs": [],
   "source": [
    "Reactor = Bed(\n",
    "    length=1.0, # m\n",
    "    diameter=0.1, # m \n",
    "    flow_rate=0.01, # m/s\n",
    "    num_segments=100, # discretization parameter\n",
    "    total_time=1000, # s\n",
    "    adsorbent=carbon, #Adsrobent_Langmuir object\n",
    ")"
   ]
  },
  {
   "cell_type": "markdown",
   "id": "3555fa77",
   "metadata": {},
   "source": [
    "**Step 4** : Let’s run the simulation using the `simulate()` method. The code converts the PDE describing concentration changes into ODEs using spatial discretization and solves them over time. This is achieved using  the integration feature from Scipy. This will generate 2 arrays: time and the concentration of CO2 at the outlet in mol/m^3. We'll print the first few elements"
   ]
  },
  {
   "cell_type": "code",
   "execution_count": null,
   "id": "39f551c1",
   "metadata": {},
   "outputs": [],
   "source": [
    "t, outlet_CO2, outlet_H2O = Reactor.simulate()\n",
    "\n",
    "print(\"t:\", t[:5])\n",
    "print(\"outlet_CO2:\", outlet_CO2[:5])"
   ]
  },
  {
   "cell_type": "markdown",
   "id": "90a431bf",
   "metadata": {},
   "source": [
    "We now need to make some sense out of this data, which can be plotted using the `plot_the_graph` function. "
   ]
  },
  {
   "cell_type": "code",
   "execution_count": null,
   "id": "2caf65de",
   "metadata": {},
   "outputs": [],
   "source": [
    "fig=plot_the_graph(t,outlet_CO2,outlet_H2O)"
   ]
  },
  {
   "cell_type": "markdown",
   "id": "7e3582fa",
   "metadata": {},
   "source": [
    "The graph by istelf looks nice, but it's missing some key information. After discussion with the Carbon Team, and important criteria for them is to identify the saturation level of adsorbant (in %), to find the optimal adsorption time. The `get_percentage_point`function find the corresponding point on the curve (time, outlet CO2 concentration). We can then use this data to drawer a plot with more information. "
   ]
  },
  {
   "cell_type": "code",
   "execution_count": null,
   "id": "204d8e3e",
   "metadata": {},
   "outputs": [],
   "source": [
    "wanted_percentage=90\n",
    "pc_point_time, pc_point_concentration = get_percentage_point(wanted_percentage,t,outlet_CO2)\n",
    "fig=plot_the_graph(t,outlet_CO2,outlet_H2O, pc_point_time, pc_point_concentration)"
   ]
  },
  {
   "cell_type": "markdown",
   "id": "9c03e757",
   "metadata": {},
   "source": [
    "**Step 5**: Now that we know when the system reaches our desired saturation, we can compute the amount of CO2 captured. This also gives us the experiment time. For this we use the `get_adsorbed_quantity_CO2`function which gives us the amount of CO2 captured in moles. "
   ]
  },
  {
   "cell_type": "code",
   "execution_count": null,
   "id": "61a58247",
   "metadata": {},
   "outputs": [],
   "source": [
    "adsorbed_quantity_CO2=get_adsorbed_quantity_CO2(outlet_CO2,pc_point_time,pc_point_concentration,Reactor.flow_rate)\n",
    "print(f\"{round(adsorbed_quantity_CO2*0.044009, 2)} [kg] of CO₂ is adsorbed in one cycle of {round(pc_point_time/60, 2)} [min]\")"
   ]
  },
  {
   "cell_type": "markdown",
   "id": "b215069d",
   "metadata": {},
   "source": [
    "If we change the wanted percentage of saturated adsorbent, the value changes."
   ]
  },
  {
   "cell_type": "code",
   "execution_count": null,
   "id": "d0b85e42",
   "metadata": {},
   "outputs": [],
   "source": [
    "wanted_percentage=60\n",
    "pc_point_time, pc_point_concentration = get_percentage_point(wanted_percentage,t,outlet_CO2)\n",
    "adsorbed_quantity_CO2=get_adsorbed_quantity_CO2(outlet_CO2,pc_point_time,pc_point_concentration,Reactor.flow_rate)\n",
    "print(f\"{round(adsorbed_quantity_CO2*0.044009, 2)} [kg] of CO₂ is adsorbed in one cycle of {round(pc_point_time/60, 2)} [min]\")"
   ]
  },
  {
   "cell_type": "markdown",
   "id": "1f91b8d7",
   "metadata": {},
   "source": [
    "A common problem which is often faced is the dual adsdsorption of water, which can't be negliged. Matter of fact, CO2 and H2O are pretty similiar molecules. That said, it was particularly important to add the humidty of air as an initial parameter. This can be computed by filling the `humidity_percentage` in the `Bed` class. We then use the same procedure as before to get adsobed quantity and time. we also get a dual breakthrough curve. The amount of H2O captured can't be found using the `get_adsorbed_quantity_H2O`function."
   ]
  },
  {
   "cell_type": "code",
   "execution_count": null,
   "id": "2e472582",
   "metadata": {},
   "outputs": [],
   "source": [
    "wet_reactor = Bed(\n",
    "    length=1.0,\n",
    "    diameter=0.1,\n",
    "    flow_rate=0.01,\n",
    "    num_segments=100,\n",
    "    total_time=1000,\n",
    "    adsorbent=carbon,\n",
    "    humidity_percentage=50\n",
    ")\n",
    "\n",
    "t, outlet_CO2, outlet_H2O = wet_reactor.simulate()\n",
    "\n",
    "wanted_percentage=90\n",
    "pc_point_x, pc_point_y = get_percentage_point(wanted_percentage,t,outlet_CO2)\n",
    "fig=plot_the_graph(t,outlet_CO2,outlet_H2O,pc_point_x,pc_point_y)\n",
    "\n",
    "adsorbed_quantity_CO2=get_adsorbed_quantity_CO2(outlet_CO2,pc_point_x,pc_point_y,wet_reactor.flow_rate)\n",
    "adsorbed_quantity_H2O=get_adsorbed_quantity_H2O(outlet_CO2,outlet_H2O,wet_reactor.humidity_percentage,pc_point_x,pc_point_y,wet_reactor.flow_rate)\n",
    "print(f\"{round(adsorbed_quantity_CO2*0.044009, 2)} [kg] of CO₂ and {round(adsorbed_quantity_H2O*0.018015, 2)} [kg] of H₂O are adsorbed in one cycle of {round(pc_point_x/60, 2)} [min]\")"
   ]
  },
  {
   "cell_type": "markdown",
   "id": "f3b31806",
   "metadata": {},
   "source": [
    "### Data Usage"
   ]
  },
  {
   "cell_type": "markdown",
   "id": "cff77cc8",
   "metadata": {},
   "source": [
    "AdsorpSim also gives the user access to a small pool of pre-defined adsorbants found in litterature that can directly be tested out. These can be found in the '/dataAdsorbent_data.csv' file. It contains all parameters necessary to test out an adsorbant  "
   ]
  },
  {
   "cell_type": "code",
   "execution_count": null,
   "id": "31d9c0ae",
   "metadata": {},
   "outputs": [],
   "source": [
    "print(download_data('../data/Adsorbent_data.csv'))"
   ]
  },
  {
   "cell_type": "markdown",
   "id": "f9bf1e92",
   "metadata": {},
   "source": [
    "From this an `Adsorbent_Langmuir` object can easily be created using the `load_adsorbent_from_csv` function. These adsorbents can thus be used to run simulations"
   ]
  },
  {
   "cell_type": "code",
   "execution_count": null,
   "id": "bf31b9d2",
   "metadata": {},
   "outputs": [],
   "source": [
    "csv_path = '../data/Adsorbent_data.csv'\n",
    "adsorbent = load_adsorbent_from_csv(csv_path=csv_path, adsorbent_name= 'Activated Carbon')\n",
    "print(adsorbent)"
   ]
  },
  {
   "cell_type": "markdown",
   "id": "a9d32b7d",
   "metadata": {},
   "source": [
    "Adsorbents can also be added to the dataset using `add_adsorbent_to_list`."
   ]
  },
  {
   "cell_type": "code",
   "execution_count": null,
   "id": "100b1a4e",
   "metadata": {},
   "outputs": [],
   "source": [
    "add_adsorbent_to_list(\n",
    "    CSV_PATH = '../data/Adsorbent_data.csv' , \n",
    "    name= 'Zeolite 13X', \n",
    "    q_max_CO2= 5.5, \n",
    "    K_CO2 = 0.6, \n",
    "    k_ads_CO2 = 0.05, \n",
    "    density = 750,\n",
    "    q_max_H2O = 1.5, \n",
    "    K_H2O = 0.001, \n",
    "    k_ads_H2O= 0.15)\n",
    "\n",
    "print(download_data('../data/Adsorbent_data.csv'))"
   ]
  },
  {
   "cell_type": "markdown",
   "id": "566ca5f8",
   "metadata": {},
   "source": [
    "## Finding adsorbent properties\n",
    "\n",
    "Litterature has its limits, and data can be limited. The Carbon Team also runs its own tests with customised adsobants: \n",
    "What if we have the breakthrough values for an adorbant and want to find its properties? It is possible to use AdsorpSim's regression tool to find them! \n",
    "\n",
    "To do this we will use the `bed` class but since we don't know the properties of the adorbent we will specifiy it as \"None\". We the use the `fit_adsorption_parameters_from_df` function in which we insert the dataframe coressponding to experminental data, a bed and the assumed density of the adsorbent. The code then finds the optimal parameters that will yield the smallest squared error using scipys `minimize`function. \n",
    "\n",
    "It will return the fitted adsorbent parameters as well as the fitted graph. "
   ]
  },
  {
   "cell_type": "code",
   "execution_count": 39,
   "id": "eb9f96f2",
   "metadata": {},
   "outputs": [
    {
     "name": "stdout",
     "output_type": "stream",
     "text": [
      "Fitted Adsorbent Parameters:\n",
      "Fitted_Adsorbent (q_max_CO2=2.0791688252284004, K_CO2=0.3293238002113751, k_ads_CO2=0.03296648705930248, density=800, q_max_H2O=0, K_H2O=0, k_ads_H2O=0)\n"
     ]
    },
    {
     "data": {
      "image/png": "[encoded data removed]",
      "text/plain": [
       "<Figure size 800x500 with 1 Axes>"
      ]
     },
     "metadata": {},
     "output_type": "display_data"
    }
   ],
   "source": [
    "data_df = pd.read_csv('../data/lab_data.csv', sep=',')\n",
    "# Create a dummy adsorbent to build the bed template (values don't matter here)\n",
    "\n",
    "# Create a bed template with the dummy adsorbent\n",
    "bed_template = Bed(\n",
    "    length=1,            # bed length in meters\n",
    "    diameter=0.1,         # bed diameter in meters\n",
    "    flow_rate=0.01,        # flow rate in m³/s\n",
    "    num_segments=100,       # discretization segments\n",
    "    total_time=data_df['time'].iloc[-1],         # total simulation time in seconds ## takes the last measured point\n",
    "    adsorbent=None\n",
    ")\n",
    "\n",
    "# Now call the fitting function\n",
    "fitted_adsorbent, fig = fit_adsorption_parameters_from_df(data_df, bed_template, assumed_density=800)\n",
    "\n",
    "print(\"Fitted Adsorbent Parameters:\")\n",
    "print(fitted_adsorbent)"
   ]
  },
  {
   "cell_type": "markdown",
   "id": "80b7f66d",
   "metadata": {},
   "source": [
    "### The \"Adsorpsim\" app"
   ]
  },
  {
   "cell_type": "markdown",
   "id": "1b8292e0",
   "metadata": {},
   "source": [
    "<div style=\"display: flex; align-items: top;\">\n",
    "    <div style=\"width: 60%; padding-right: 20px;\">\n",
    "        <p>Now that we have presented the core functionalities of our code, I will introduce how we implemented them in the Streamlit interface to make the different features of our project more accessible and user-friendly.</p>\n",
    "        <p>Different tools are shown in the interface with each its utility. The different tools are: </p>\n",
    "        <ol>\n",
    "            <li>The Bed parameters determination</li>\n",
    "            <li>The list of registered adsorbent</li>\n",
    "            <li>The adsorbent parameters determination</li>\n",
    "            <li>The graph showing the breakthrough curve</li>\n",
    "            <li>The adsorbed quantities of CO₂ and H₂O</li>\n",
    "            <li>Adding an adsorbent to the list</li>\n",
    "            <li>Deducting an adsorbent's properties from a measured breakthrough curve</li>\n",
    "        </ol>\n",
    "        <p>Their usage will be detailed in this section\n",
    "    </div>\n",
    "    <div style=\"width: 40%;\">\n",
    "        <img src=\"./images/UI2.png\" alt=\"UI\" style=\"max-width: 300px; width: 100%; height: auto;\"/>\n",
    "    </div>\n",
    "</div>"
   ]
  },
  {
   "cell_type": "markdown",
   "id": "d6b8aee0",
   "metadata": {},
   "source": [
    "<div style=\"display: flex; align-items: center;\">\n",
    "    <div style=\"flex: 1;\">\n",
    "        <img src=\"./images/bed.png\" alt=\"UI\" style=\"max-width: 500px; width: 100%; height: auto;\"/>\n",
    "    </div>\n",
    "    <div style=\"flex: 1; padding-right: 20px;\">\n",
    "        <h4>1.The Bed parameters determination</h4>\n",
    "        <p>\n",
    "        The user is let to choose the bed parameters.\n",
    "        </p>\n",
    "        <al>\n",
    "            <li>The bed length and diameter changes the volume of the installation which changes the total quantity of adsorbent as we assume that the bed is full of material. </li>\n",
    "            <li>The flowrate influences the speed at which the air is let through the cartridge. For optimal results, the flowrate should not exceed the speed of the adsorption reaction.</li> \n",
    "            <li>The number of segments determines the discretisation of the bed. A higher number of segments will allow more precise results but implies more complex calculations. </li>\n",
    "            <li>The total time determines the time of the experiment. The percentage of humidity will directly influence the amount of adsorbed water. </li>\n",
    "            <li>Finally, the percentage of adsorbent saturated in CO₂ will define the coordinates of the red cross.</li>\n",
    "        </al>\n",
    "    </div>\n",
    "</div>"
   ]
  },
  {
   "cell_type": "markdown",
   "id": "cc5725b8",
   "metadata": {},
   "source": [
    "<div style=\"display: flex; align-items: center;\">\n",
    "    <div style=\"width: 70%; padding-right: 20px;\">\n",
    "        <h4>2. The list of registered adsorbent</h4>\n",
    "        <p>\n",
    "            The user is let to choose one adsorbent among the different species present in the dataset. Each adsorbent is linked to its properties: choosing one will automatically insert the good values for each physical property. The user also has the choice to choose \"Manual Modifications\" for complementary tests.\n",
    "        </p>\n",
    "    </div>\n",
    "    <div style=\"width: 30%;\">\n",
    "        <img src=\"./images/list.png\" alt=\"UI\" style=\"max-width: 300px; width: 100%; height: auto;\"/>\n",
    "    </div>\n",
    "</div>"
   ]
  },
  {
   "cell_type": "markdown",
   "id": "9f530313",
   "metadata": {},
   "source": [
    "<div style=\"display: flex; align-items: center;\">\n",
    "    <div style=\"width: 30%;\">\n",
    "        <img src=\"./images/ads.png\" alt=\"UI\" style=\"max-width: 300px; width: 70%; height: auto;\"/>\n",
    "    </div>\n",
    "    <div style=\"width: 70%; padding-right: 20px;\">\n",
    "        <h4>3. The adsorbent parameters determination</h4>\n",
    "        <p>The different needed physical properties of the adsorbentare displayed and can be modified from this tool. Four of them are mandatory to draw the breakthroug curve of CO₂:</p>\n",
    "        <al>\n",
    "            <li>Q(max) defines the maximal amount of CO₂ a kilogramm of adsorbent can adsorb.</li>\n",
    "            <li>K is a thermodynamical factor that defines the equilibrium of the reaction.</li>\n",
    "            <li>k is a kinetic factor that defines the speed of the adsorption reaction.</li>\n",
    "            <li>The density is the mass per unit of volume of the adsorbent.</li>\n",
    "        </al>\n",
    "        <p>The same parameters may be defined for water, allowing the plot of a breakthrough curve for water if a percentage of humidity is defined in the bed.</p>\n",
    "    </div>\n",
    "</div>"
   ]
  },
  {
   "cell_type": "markdown",
   "id": "c0d2524d",
   "metadata": {},
   "source": [
    "<div style=\"display: flex; align-items: center;\">\n",
    "    <div style=\"flex: 1; padding-right: 20px;\">\n",
    "        <h4> 4. The graph showing the breakthrough curve</h4>\n",
    "        <p>Different previously presented functions are called to draw the breakthrough curve of CO₂ and H₂O if a humidity perecentage and the adsorbent properties for water are provided. The red cross is here observed at the point were 90% of the adsorbent is saturated in CO₂.</p>\n",
    "        <p>The graph will adapt everytime a bed parameter or an adsorbent property is changed.</p>\n",
    "    </div>\n",
    "    <div style=\"flex: 1;\">\n",
    "        <img src=\"./images/graph.png\" alt=\"UI\" style=\"max-width: 500px; width: 100%; height: auto;\"/>\n",
    "    </div>\n",
    "</div>"
   ]
  },
  {
   "cell_type": "markdown",
   "id": "0832605d",
   "metadata": {},
   "source": [
    "<div style=\"display: flex; align-items: center;\">\n",
    "    <div style=\"flex: 1;\">\n",
    "        <img src=\"./images/quantities.png\" alt=\"UI\" style=\"max-width: 500px; width: 100%; height: auto;\"/>\n",
    "    </div>\n",
    "    <div style=\"flex: 1; padding-right: 20px;\">\n",
    "        <h4>5. The adsorbed quantities of CO₂ and H₂O</h4>\n",
    "        <p>The adsorbed quantity of CO₂ is calculated in moles using the previously presented function: the difference between the concentration of CO₂ in ambient air and the breakthrough curve y-values is calculated for all the points between the start of the experiment and the red cross. The result is then multiplied by the flowrate and the time of acquisition to retrieve a quantity of matter. The quantity in kilogramms is easily calculated using the molar mass of CO₂. The needed time, which corresponds to the x coordinate of the red cross is also displayed. Similar calculations are performed to calculate the adsorbed water quantity.\n",
    "        </p>\n",
    "        <p>All these values are impacted by both the bed and the adsorbent parameters. Changing on of them will directly recalculate the different quantities, exhibiting the efficiency of the chosen system. </p>\n",
    "    </div>\n",
    "</div>\n"
   ]
  },
  {
   "cell_type": "markdown",
   "id": "cea58f0f",
   "metadata": {},
   "source": [
    "\n",
    "<div style=\"display: flex; align-items: center;\">\n",
    "    <div style=\"width: 57%; padding-right: 20px;\">\n",
    "        <h4> 6. Adding an adsorbent to the list</h4>\n",
    "        <p>The user is let to add an adsorbent to the list directly from the app. In order to do this, he must fill the differents widgets, giving the name and the mandatory physical properties of the adsorbent. If he forgets one an error message will show up, otherwise, the adsorbent will successfully be added to the dataset and will be available for usage after a quick refresh of the page as shown in the picture. In this case, the string \" (without H₂O properties)\" will be added to the adsorbent's name.</p>\n",
    "        <p>The user may also provide the needed properties to describe water adsorption avoiding the addition of the string to the name.</p>\n",
    "    </div>\n",
    "    <div style=\"width: 43%;\">\n",
    "        <img src=\"./images/add2.png\" alt=\"UI\" style=\"max-width: 400px; width: 100%; height: auto;\"/>\n",
    "    </div>\n",
    "</div>"
   ]
  },
  {
   "cell_type": "markdown",
   "id": "e95e0523",
   "metadata": {},
   "source": [
    "<div style=\"display: flex; align-items: center;\">\n",
    "    <div style=\"width=70%;\">\n",
    "        <img src=\"./images/image.png\" alt=\"UI\" style=\"max-width: 550px; width: 100%; height: auto;\"/>\n",
    "    </div>\n",
    "    <div style=\"width=30%; padding-right: 20px;\">\n",
    "        <h4>7. Deducting an adsorbent's properties from a measured breakthrough curve</h4>\n",
    "        <p>The user is let to provide an experimentally measured breakthrough curve as a csv file matching the required format to deduct the physical properties of the used adsorbent.</p>\n",
    "        <p>Once the file is given, the presumed density of the adsorbent is required.</p>\n",
    "        <p>Once the density is provided, the different physicall properties of the adsorbent are calculated and the fitted model is shown to ensure a reliable prediction.</p>\n",
    "        <p>The user now can easily add the adsorbent to the list by simply naming it and pressing the corresponding button.</p>\n",
    "        <p>Suppressing the csv file from the app is then recommanded as it can significantly increase the loading time of the page.</p>\n",
    "    </div>\n",
    "</div>\n",
    "\n"
   ]
  },
  {
   "cell_type": "markdown",
   "id": "bbf60ea1",
   "metadata": {},
   "source": [
    "<h4>7. Deducting an adsorbent's properties from a measured breakthrough curve</h4>\n",
    "<p>The user is let to provide an experimentally measured breakthrough curve as a csv file matching the required format to deduct the physical properties of the used adsorbent.</p>\n",
    "<p>Once the file is given, the presumed density of the adsorbent is required.</p>\n",
    "<p>Once the density is provided, the different physicall properties of the adsorbent are calculated and the fitted model is shown to ensure a reliable prediction.</p>\n",
    "<p>The user now can easily add the adsorbent to the list by simply naming it and pressing the corresponding button.</p>\n",
    "<p>Suppressing the csv file from the app is then recommanded as it can significantly increase the loading time of the page.</p>\n",
    "\n",
    "<figure style=\"text-align: center;\">\n",
    "  <img src=\"./images/image.png\" alt=\"Flow Diagram\" style=\"max-width: 800px; width: 100%; height: auto;\" />\n",
    "</figure>"
   ]
  },
  {
   "cell_type": "markdown",
   "id": "9628490b",
   "metadata": {},
   "source": [
    "### 5. Conclusion\n",
    "\n"
   ]
  },
  {
   "cell_type": "markdown",
   "id": "87a73c33",
   "metadata": {},
   "source": [
    "### 6. Acknowledgments\n",
    "\n",
    "We thank the **EPFL Carbon Team**, especially the Chemistry subteam Panoramix, for providing experimental data acquired in **Professor Wendy Queen’s** lab. Their contributions were essential for validating and grounding our simulator in real-world performance."
   ]
  }
 ],
 "metadata": {
  "kernelspec": {
   "display_name": "adsorpsim",
   "language": "python",
   "name": "python3"
  },
  "language_info": {
   "codemirror_mode": {
    "name": "ipython",
    "version": 3
   },
   "file_extension": ".py",
   "mimetype": "text/x-python",
   "name": "python",
   "nbconvert_exporter": "python",
   "pygments_lexer": "ipython3",
   "version": "3.10.16"
  }
 },
 "nbformat": 4,
 "nbformat_minor": 5
}
