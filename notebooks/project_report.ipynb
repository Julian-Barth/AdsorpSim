{
 "cells": [
  {
   "cell_type": "markdown",
   "id": "5347e290",
   "metadata": {},
   "source": [
    "# ***AdsorpSim*** \n",
    "## The ultimate tool for carbon capture !\n",
    "\n",
    "#### Julian Barth, Marin Desgeans, Lucas Eichenberger\n",
    "\n",
    "\n",
    "   "
   ]
  },
  {
   "cell_type": "markdown",
   "id": "be507a56",
   "metadata": {},
   "source": [
    "<div style=\"text-align: center;\">\n",
    "<img src=\"./images/Asterix.jpg\" alt=\"UI\" width=\"600\"/>\n",
    "</div>\n",
    "\n",
    "Welcome to our documentation notebook for the package ***AdsorpSim***, an open source tool designed to generate breakthrough curves for direct air capture (DAC) of CO₂. It plays a critical role in tuning carbon capture machines and identifying the optimal adsorption time, accelerating the journey toward efficient climate solutions. It's an open source alternative to expensive softwares!\n",
    "\n",
    "You may find below the table of contents to get a glimpse on the global structure of our project.\n",
    "\n",
    "***Table of Contents***\n",
    "\n",
    "1. Introduction\n",
    "2. Presentation of the functions\n",
    "3. Presentation and extraction of data\n",
    "4. Presentation of the UI and the different app's tools \n",
    "5. Conclusion ?\n",
    "6. Acknowledgments\n"
   ]
  },
  {
   "cell_type": "markdown",
   "id": "968d3e0a",
   "metadata": {},
   "source": [
    "### 1. Introduction\n",
    "The fight against climate change is urgent and relentless. To limit global warming to **1.5°C**, the world must remove over **10 billion tons of CO₂ every year by 2050**. That means not only cutting current emissions, but also dealing with past emissions that remain in the atmosphere. Technologies that actively remove CO₂ from the air are no longer optional: they’re essential.\n",
    "\n",
    "One of the most promising of these technologies is Direct Air Capture (DAC), which captures CO₂ directly from the air, where it exists at extremely low concentrations, **around 400 parts per million**. That makes the challenge particularly difficult: extracting a trace gas from a massive volume of air requires both smart materials and smart system design.\n",
    "\n",
    "At EPFL, the Carbon Team, a student-led group, is tackling this challenge head-on. One of its prototype systems, named Asterix (see picture above), captures CO₂ using **solid adsorbents**: materials that selectively trap CO₂ as air flows through them. These systems rely on a packed adsorbent bed, typically modeled as a cylindrical column filled with porous particles. As air is pushed through the column, CO₂ is gradually removed until the adsorbent becomes saturated.\n",
    "\n",
    "<figure style=\"text-align: center;\">\n",
    "  <img src=\"./images/FlowSheet.png\" alt=\"Flow Diagram\" style=\"max-width: 600px; width: 100%; height: auto;\" />\n",
    "  <figcaption> Schematic of the Carbon team's full process (we will only focus on Asterix).</figcaption>\n",
    "</figure>\n",
    "\n",
    "**Designing such systems is complex**. Performance depends on many variables: the type of adsorbent, the bed height, particle size, flow rate, inlet concentration, and more. Building and testing every possible configuration in the lab would be time-consuming and expensive.\n",
    "\n",
    "**That’s where our project comes in.**\n",
    "\n",
    "We developed an interactive, open-source simulator that lets the Carbon Team experiment with different system designs and adsorbent materials, all in a matter of seconds. With this tool, users can:\n",
    "\n",
    "- Simulate CO₂ adsorption over time using different materials\n",
    "- Modify system parameters like bed dimensions, particle diameter, and inlet flow rate\n",
    "- Visualize performance using a breakthrough curve\n",
    "- Estimate the total amount of CO₂ captured over a specified period\n",
    "\n",
    "The breakthrough curve is a key output of the simulator. It shows how the outlet CO₂ concentration changes over time. At the start, the adsorbent captures nearly all the CO₂, so the outlet concentration is near zero. As the bed becomes saturated, CO₂ begins to break through — hence the name. This curve is fundamental for assessing the efficiency and capacity of the system.\n",
    "\n",
    "One of the simulator’s biggest strengths is that it’s **open-source and easily customizable**. Unlike commercial alternatives such as Aspen Adsorption, which costs up to $20,000 per year and offers limited flexibility, our tool is free to use, modify, and share. That makes it ideal for student teams, researchers, and early-stage innovators who need speed, flexibility, and transparency.\n",
    "\n",
    "In short, this simulator is more than a visualization tool, it’s a strategic R&D tool for the EPFL Carbon Team. It allows them to test ideas virtually, accelerate design iterations, and make data-driven decisions, all without relying on expensive software or slow experimental cycles.\n",
    "\n",
    "---"
   ]
  },
  {
   "cell_type": "markdown",
   "id": "315fd4bc",
   "metadata": {},
   "source": [
    "\n",
    "### 2. Presentation of the functions\n",
    "\n",
    "#### Workflow\n",
    "\n",
    "Let's first understand the experiment workflow.\n",
    "\n",
    "\n",
    "1) The user first **defines an adsorbent** by specifying its Langmuir parameters (e.g., maximum adsorption capacity, equilibrium constant, adsorption rate, and density).\n",
    "\n",
    "2) The user **initializes a bed** by providing its geometry, flow conditions, the adsorbent object, and optionally humidity.\n",
    "\n",
    "3) The user calls the **simulate() method** to run the adsorption process over the specified time.\n",
    "\n",
    "4) The simulation outputs concentration profiles at the bed outlet, which the user can **plot and analyze** (e.g., breakthrough curves for CO₂ and H₂O).\n",
    "\n",
    "\n",
    "<figure style=\"text-align: center;\">\n",
    "  <img src=\"./images/schema.png\" alt=\"Flow Diagram\" style=\"max-width: 300px; width: 100%; height: auto;\" />\n",
    "  <figcaption> Simplified process flow scheme</figcaption>\n",
    "</figure>"
   ]
  },
  {
   "cell_type": "markdown",
   "id": "496bdfcc",
   "metadata": {},
   "source": [
    "\n",
    "#### Langmuir Isotherm Explanation\n",
    "\n",
    "The **Langmuir isotherm** describes how molecules adsorb onto a solid surface forming a monolayer. It assumes:\n",
    "\n",
    "- A fixed number of adsorption sites,  \n",
    "- Each site holds at most one molecule,  \n",
    "- No interaction between adsorbed molecules.\n",
    "\n",
    "The equilibrium adsorbed amount $q_{eq}$ relates to the gas-phase concentration $C$ as:\n",
    "\n",
    "$$\n",
    "q_{eq} = \\frac{q_{\\max} K C}{1 + K C}\n",
    "$$\n",
    "\n",
    "where:\n",
    "\n",
    "- $q_{eq}$ is the equilibrium adsorbed amount (mol/kg),  \n",
    "- $q_{\\max}$ is the maximum adsorption capacity (monolayer coverage),  \n",
    "- $K$ the Langmuir equilibrium constant (related to affinity),  \n",
    "- $C$ is the gas-phase concentration (e.g., mol/m³)."
   ]
  },
  {
   "cell_type": "markdown",
   "id": "3430679a",
   "metadata": {},
   "source": [
    "#### Code Explanation\n",
    "\n",
    "- **Adsorbent_Langmuir class:**  \n",
    "  Defines the adsorbent properties using the Langmuir model for CO₂ and optionally H₂O adsorption.\n",
    "\n",
    "- **Bed class:**  \n",
    "  Models the packed bed reactor as a series of segments with plug flow.  \n",
    "  It converts the PDE describing concentration changes into ODEs using spatial discretization and solves them over time.\n",
    "\n",
    "\n",
    "#### Key Steps in the Bed Class\n",
    "\n",
    "- `_initial_conditions()`: Sets initial concentrations and adsorbed amounts in each segment.\n",
    "\n",
    "- `_ode_system(t, y)`: Defines the system of ODEs representing mass balances and adsorption kinetics along the bed.\n",
    "\n",
    "- `simulate()`: Solves the ODE system over time and returns the outlet gas concentrations.\n",
    "\n",
    "\n",
    "#### Discretization Details\n",
    "\n",
    "The bed length is divided into multiple segments (`num_segments`). Concentration gradients are approximated by **upwind finite differences**, assuming plug flow:\n",
    "\n",
    "$$\n",
    "\\frac{\\partial C}{\\partial z} \\approx \\frac{C_i - C_{i-1}}{\\Delta z}\n",
    "$$\n",
    "\n",
    "where\n",
    "\n",
    "$$\n",
    "\\Delta z = \\frac{\\text{bed length}}{\\text{number of segments}}\n",
    "$$\n",
    "\n",
    "This spatial discretization transforms PDEs into ODEs solvable by standard methods.\n",
    "\n",
    "#### Mathematical Model Summary\n",
    "\n",
    "For each gas component (CO₂ or H₂O), the mass balance in segment i is:\n",
    "\n",
    "$$\n",
    "\\frac{dC_i}{dt} = -v \\frac{C_i - C_{i-1}}{\\Delta z} - \\rho_b \\frac{dq_i}{dt}\n",
    "$$\n",
    "\n",
    "where:\n",
    "\n",
    "- $C_i$: concentration in segment $i$ ($mol/m^3$),  \n",
    "- $v$: superficial gas velocity ($m/s$),\n",
    "- $\\Delta z$: segment length ($m$),  \n",
    "- $\\rho_b$: bulk density of adsorbent ($kg/m^3$),  \n",
    "- $q_i$: adsorbed amount in segment $i$, evolving by Langmuir kinetics ($mol/m^3$):  \n",
    "\n",
    "$$\\frac{dq_i}{dt} = k_{\\text{ads}} (q_{eq,i} - q_i)$$\n",
    "\n",
    "\n",
    "with \\( q_{eq,i} \\) given by the Langmuir isotherm."
   ]
  },
  {
   "cell_type": "markdown",
   "id": "79dd2968",
   "metadata": {},
   "source": [
    "#### How to Use\n",
    "\n",
    "Enough theory: let's get to coding!"
   ]
  },
  {
   "cell_type": "code",
   "execution_count": 6,
   "id": "09a1281d",
   "metadata": {},
   "outputs": [],
   "source": [
    "import streamlit as st\n",
    "import numpy as np\n",
    "import matplotlib.pyplot as plt\n",
    "from scipy.integrate import solve_ivp\n",
    "from pathlib import Path\n",
    "import pandas as pd\n",
    "import os"
   ]
  },
  {
   "cell_type": "markdown",
   "id": "77592341",
   "metadata": {},
   "source": [
    "### 2. Presentation of the functions\n",
    "\n",
    "In this chapter, the different used functions and their usage will be detailed."
   ]
  },
  {
   "cell_type": "markdown",
   "id": "d528c569",
   "metadata": {},
   "source": [
    "First, a class for the adsorbent and a class for the bed were created"
   ]
  },
  {
   "cell_type": "code",
   "execution_count": 7,
   "id": "6e3cf25a",
   "metadata": {},
   "outputs": [],
   "source": [
    "class Adsorbent_Langmuir:\n",
    "    def __init__(self, name, q_max, K0, Ea, k_ads, density):\n",
    "        self.name = name\n",
    "        self.q_max = q_max  # mol/kg\n",
    "        self.K0 = K0        # pre-exponential factor, 1/(mol/m³)\n",
    "        self.Ea = Ea        # activation energy in J/mol\n",
    "        self.k_ads = k_ads  # 1/s\n",
    "        self.density = density  # kg/m³\n",
    "        self.R = 8.314      # J/mol·K\n",
    "\n",
    "    def __repr__(self):\n",
    "        return f\"{self.name} (q_max={self.q_max}, K0={self.K0}, Ea={self.Ea}, k_ads={self.k_ads}, density={self.density})\""
   ]
  },
  {
   "cell_type": "markdown",
   "id": "598e99dd",
   "metadata": {},
   "source": [
    "class bed description"
   ]
  },
  {
   "cell_type": "code",
   "execution_count": 8,
   "id": "77acfe0c",
   "metadata": {},
   "outputs": [],
   "source": [
    "class Bed: #now we can also initialize a bed with a PREDEFINED adsorbant\n",
    "    def __init__(self, length, diameter, flow_rate, num_segments, total_time, adsorbent, T):\n",
    "        self.length = length  # meters\n",
    "        self.diameter = diameter  # meters\n",
    "        self.flow_rate = flow_rate  # m³/s\n",
    "        self.num_segments = num_segments  # discretization segments\n",
    "        self.total_time = total_time\n",
    "        self.adsorbent = adsorbent\n",
    "        self.T = T #Kelvin\n",
    "\n",
    "        self.area = np.pi * (self.diameter / 2) ** 2\n",
    "        self.velocity = self.flow_rate / self.area  # m/s\n",
    "        self.dz = self.length / self.num_segments\n",
    "\n",
    "        # Inlet conditions, these are specifif to what we do at the CT \n",
    "        self.R = 8.314  # J/mol·K\n",
    "        self.P = 101325  # Pa\n",
    "        self.initial_molefrac = 400e-6\n",
    "        self.initial_conc = self.initial_molefrac * self.P / (self.R * self.T)  # mol/m³\n",
    "\n",
    "    def _initial_conditions(self): #we create a matrix which takes in the concentration of CO2 at any segemnt, in the gas and solid phase. \n",
    "        C_init = np.zeros(self.num_segments)\n",
    "        C_init[0] = self.initial_conc  # Only inlet has CO2 at t=0\n",
    "        q_init = np.zeros(self.num_segments)\n",
    "        return np.concatenate([C_init, q_init])\n",
    "\n",
    "    def _ode_system(self, t, y): \n",
    "        # Split the initial conditions back in 2 matrices \n",
    "        C = y[:self.num_segments]\n",
    "        q = y[self.num_segments:]\n",
    "\n",
    "        dCdt = np.zeros_like(C)\n",
    "        dqdt = np.zeros_like(q)\n",
    "\n",
    "        # Inlet boundary condition\n",
    "        C_in = self.initial_conc\n",
    "        C_upstream = np.concatenate([[C_in], C[:-1]])\n",
    "\n",
    "        # Advection and adsorption\n",
    "        dCdz = (C - C_upstream) / self.dz\n",
    "        K=self.adsorbent.K0 * np.exp(-self.adsorbent.Ea / (self.adsorbent.R * self.T))\n",
    "        q_eq_vals=(self.adsorbent.q_max * K * C) / (1 + K * C)\n",
    "        dqdt = self.adsorbent.k_ads * (q_eq_vals - q)\n",
    "        dCdt = -self.velocity * dCdz - self.adsorbent.density * dqdt\n",
    "\n",
    "        return np.concatenate([dCdt, dqdt])\n",
    "\n",
    "    def simulate(self, plot=False):\n",
    "        t_span = (0, self.total_time)\n",
    "        t_eval = np.linspace(*t_span, self.total_time)\n",
    "        # enbales the integration of the momentum equation \n",
    "        sol = solve_ivp(\n",
    "            self._ode_system, #ode system with as many equations as segments and \"t\"s\n",
    "            t_span,\n",
    "            self._initial_conditions(),\n",
    "            t_eval=t_eval,\n",
    "            method='BDF',\n",
    "            vectorized=False,\n",
    "            rtol=1e-6,\n",
    "            atol=1e-9\n",
    "        )\n",
    "\n",
    "        C_sol = sol.y[:self.num_segments, :]\n",
    "        outlet_conc = C_sol[-1, :]\n",
    "\n",
    "        if plot:\n",
    "            plt.figure(figsize=(8,5))\n",
    "            plt.plot(sol.t, outlet_conc, label=\"Outlet CO₂ Concentration\")\n",
    "            plt.xlabel('Time (s)')\n",
    "            plt.ylabel('Outlet CO₂ Concentration (mol/m³)')\n",
    "            plt.title('Breakthrough Curve')\n",
    "            plt.legend()\n",
    "            plt.grid(True)\n",
    "            plt.tight_layout()\n",
    "            plt.show()\n",
    "\n",
    "        return sol.t, outlet_conc"
   ]
  },
  {
   "cell_type": "markdown",
   "id": "261d1088",
   "metadata": {},
   "source": [
    "The first function was simply created to dowload the data. The form and the utility of the dataset will be presented later in the notebook"
   ]
  },
  {
   "cell_type": "code",
   "execution_count": 9,
   "id": "61649c03",
   "metadata": {},
   "outputs": [],
   "source": [
    "#the data were not cached as it does not allow the apparition of new asorbent imputted from the app \n",
    "def download_data(csv_file):\n",
    "    \"Download the adsorbent database\"\n",
    "    df = pd.read_csv(csv_file, sep= \";\")\n",
    "    return df"
   ]
  },
  {
   "cell_type": "markdown",
   "id": "e66f2fca",
   "metadata": {},
   "source": [
    "The \"get_percentage_point\" was used to draw the red marker on the graph. The user may choose a certain percentage of saturated adsorbent depending on their needs on the experiment time. This percentage as well as the two lists used to draw the graph are given to the function. The function then calculates and returns the two coordinates of the desired point. These coordinates will be further used to calculate the adsorbed quantity of CO₂ at this experiment time. "
   ]
  },
  {
   "cell_type": "code",
   "execution_count": 10,
   "id": "82e5e9eb",
   "metadata": {},
   "outputs": [],
   "source": [
    "def get_percentage_point(percentage:int, t, outlet_conc):\n",
    "    \"\"\"\n",
    "    This function first identifies the outlet CO2 concentration at the desired percentage\n",
    "\n",
    "    it then finds the index of the nearest value contained in the outlet concentration array \n",
    "    (in other words the nearest value taken by the function)\n",
    "\n",
    "    Once the index is found, we can define and return the point's coordinates\n",
    "    \"\"\"\n",
    "    if np.max(outlet_conc)<0.1624:\n",
    "        almost_pc_point_y=(percentage/100*np.max(outlet_conc))\n",
    "    else:\n",
    "        almost_pc_point_y=(percentage/100*0.01624)\n",
    "\n",
    "    idx_proche = np.abs(outlet_conc - almost_pc_point_y).argmin()\n",
    "\n",
    "    pc_point_y = outlet_conc[idx_proche]\n",
    "    index = np.where(outlet_conc == pc_point_y)[0][0]\n",
    "    pc_point_x = t[index]\n",
    "    return pc_point_x, pc_point_y"
   ]
  },
  {
   "cell_type": "markdown",
   "id": "365ae632",
   "metadata": {},
   "source": [
    "The \"plot_the_graph\" function was used to plot the graph. mathplotlib was used to achieve a light, easy to read graphic. The previously calculated lists of points are needed to draw the curve and the coordinates for the end point are needed to draw the red cross.  "
   ]
  },
  {
   "cell_type": "code",
   "execution_count": 11,
   "id": "f1dfc71c",
   "metadata": {},
   "outputs": [],
   "source": [
    "def plot_the_graph(t,outlet_conc,pc_point_x,pc_point_y):\n",
    "    \"\"\"\n",
    "    This function plots the breakthrough graph\n",
    "    \"\"\"\n",
    "    #the plot is created\n",
    "    fig, ax = plt.subplots(figsize=(8, 5))\n",
    "    #the point at wich the desired percentage of adsorbent is saturated in CO2 is plotted\n",
    "    ax.plot(pc_point_x, pc_point_y, \"rx\", markersize=10, label=\"Percentage point\",zorder=3)\n",
    "    #the breakthrough curve is plotted\n",
    "    ax.plot(t, outlet_conc, label=\"Outlet CO₂ Concentration\",zorder=1)\n",
    "    #the template of the graph is defined\n",
    "    ax.set_xlabel('Time (s)')\n",
    "    ax.set_ylabel('Outlet CO₂ Concentration (mol/m³)')\n",
    "    ax.set_title('Breakthrough Curve')\n",
    "    ax.legend()\n",
    "    ax.grid(True)\n",
    "    return fig"
   ]
  },
  {
   "cell_type": "markdown",
   "id": "c009cec8",
   "metadata": {},
   "source": [
    "The \"Add_adsorbent_to_list\" function was used to implement the possibility for the user to add an adsorbent to the dataset directly from the app. the name of the adsorbent and its physical properties are given to the function which will create a dataframe with them and add this new row to the dataset."
   ]
  },
  {
   "cell_type": "code",
   "execution_count": 12,
   "id": "cc286376",
   "metadata": {},
   "outputs": [],
   "source": [
    "def add_adsorbent_to_list(CSV_PATH, name, q_max, K0, Ea, k_ads, density):\n",
    "    \"\"\"\n",
    "    This function reads a given .csv file \n",
    "    and adds a row containing the different needed physical property of an adsorbent\n",
    "    The physical properties and the name has to be given to the function\n",
    "    The .csv file is then saved\n",
    "    \"\"\"\n",
    "    #creation of a dataframe with the new line (new adsorbent)\n",
    "    new_row = {\n",
    "    \"name\": name,\n",
    "    \"q_max\": q_max,\n",
    "    \"K0\": K0,\n",
    "    \"Ea\": Ea,\n",
    "    \"k_ads\": k_ads,\n",
    "    \"density\": density\n",
    "    }\n",
    "    #the file is read and the new adsorbent is added\n",
    "    df = pd.read_csv(CSV_PATH, sep=\";\")\n",
    "    df = pd.concat([df, pd.DataFrame([new_row])], ignore_index=True)\n",
    "    #the file is saved \n",
    "    df.to_csv(CSV_PATH, sep=\";\", index=False)"
   ]
  },
  {
   "cell_type": "markdown",
   "id": "ec5e7f99",
   "metadata": {},
   "source": [
    "The \"get_adsorbed_quantity\" function was used to calculate the quantity of adsorbed CO₂ between the start of the experiment and the time at the red cross (which variates depending on how many percent of saturated adsorbent is needed). The adsorbed quantity is the difference between the concentration of CO₂ is the air wich is constant at ~0.01624 mol/m³ and the measured outlet concentration. Thus, the list constituting the outlet concentration values of the curve is cleaved at the red cross location. The concentration of CO₂ in the air is then substracted to this \"sub-list\" to retrieve the adsorbed CO₂ concentration per second. The quantity is calculated by multiplying this variable to the flowrate and the time of the experiment here showd as \"pc_point_x\"."
   ]
  },
  {
   "cell_type": "code",
   "execution_count": 13,
   "id": "90139049",
   "metadata": {},
   "outputs": [],
   "source": [
    "def get_adsorbed_quantity(t,outlet_conc, pc_point_x, pc_point_y, flow_rate):\n",
    "    \"\"\"\n",
    "    This function will calculate the quantity of adsorbed CO₂ in mol \n",
    "\n",
    "    An array containing the concentration of adsorbed CO₂ per m³ is created with all the concentrations from the start to the red cross, (which represents the desired percentage of saturated adsorbent in CO₂)\n",
    "    \n",
    "    The component of the array are then summed and multiplied by the acquisition time and the flowrate to retrieve a quantity of matter in moles.\n",
    "    \"\"\"\n",
    "    adsorbed_array=np.array([])\n",
    "    index = np.where(outlet_conc == pc_point_y)[0][0]\n",
    "    for elem in outlet_conc[:round(index)+1]:\n",
    "        if elem<0.01624:\n",
    "            adsorbed=0.01624-elem\n",
    "            adsorbed_array=np.append(adsorbed_array, adsorbed)\n",
    "    return sum(adsorbed_array)*flow_rate*pc_point_x"
   ]
  },
  {
   "cell_type": "markdown",
   "id": "d528558f",
   "metadata": {},
   "source": [
    "### 3.Presentation and extraction of the data\n",
    "\n",
    "The data for this app is presented in the csv file: Dataset PPC.csv. This file contains a list of adsorbent and their physical properties needed to draw the breakthrough curve. The file is organised as follows: each row represents one adsorbent."
   ]
  },
  {
   "cell_type": "markdown",
   "id": "488db930",
   "metadata": {},
   "source": [
    "|name     | q_max | K0   | Ea   | k_ads | density |\n",
    "|--------------------|------|---------|---------|-------|--------|\n",
    "| Activated Carbon   | 2.0  | 20000.0 | 25000.0 | 0.01  | 1000.0 |\n",
    "| Activated Carbon2  | 1.0  | 10000.0 | 12500.0 | 0.02  | 500.0  |\n",
    "| Activated Carbon3  | 1.0  | 10000.0 | 12500.0 | 0.002 | 500.0  |\n"
   ]
  },
  {
   "cell_type": "markdown",
   "id": "87e7fcac",
   "metadata": {},
   "source": [
    "The loading of the data is essential for the proper functionning of the app. Additionnaly, a dictionnary indexed by the adsorbent's name is created with an entry for each adsorbent. This dictionnary will be used to display the good physical constants for the graph when one or another adsorbent is chosen on the list.\n",
    "\n",
    "Additionally, a list of the adsorbents' names is created. This list will be used to propose to the user the usage of the different adsorbents."
   ]
  },
  {
   "cell_type": "code",
   "execution_count": 14,
   "id": "a90430ec",
   "metadata": {},
   "outputs": [
    {
     "ename": "KeyError",
     "evalue": "'q_max'",
     "output_type": "error",
     "traceback": [
      "\u001b[0;31m---------------------------------------------------------------------------\u001b[0m",
      "\u001b[0;31mKeyError\u001b[0m                                  Traceback (most recent call last)",
      "File \u001b[0;32m/opt/anaconda3/envs/adsorpsim/lib/python3.10/site-packages/pandas/core/indexes/base.py:3805\u001b[0m, in \u001b[0;36mIndex.get_loc\u001b[0;34m(self, key)\u001b[0m\n\u001b[1;32m   3804\u001b[0m \u001b[38;5;28;01mtry\u001b[39;00m:\n\u001b[0;32m-> 3805\u001b[0m     \u001b[38;5;28;01mreturn\u001b[39;00m \u001b[38;5;28;43mself\u001b[39;49m\u001b[38;5;241;43m.\u001b[39;49m\u001b[43m_engine\u001b[49m\u001b[38;5;241;43m.\u001b[39;49m\u001b[43mget_loc\u001b[49m\u001b[43m(\u001b[49m\u001b[43mcasted_key\u001b[49m\u001b[43m)\u001b[49m\n\u001b[1;32m   3806\u001b[0m \u001b[38;5;28;01mexcept\u001b[39;00m \u001b[38;5;167;01mKeyError\u001b[39;00m \u001b[38;5;28;01mas\u001b[39;00m err:\n",
      "File \u001b[0;32mindex.pyx:167\u001b[0m, in \u001b[0;36mpandas._libs.index.IndexEngine.get_loc\u001b[0;34m()\u001b[0m\n",
      "File \u001b[0;32mindex.pyx:196\u001b[0m, in \u001b[0;36mpandas._libs.index.IndexEngine.get_loc\u001b[0;34m()\u001b[0m\n",
      "File \u001b[0;32mpandas/_libs/hashtable_class_helper.pxi:7081\u001b[0m, in \u001b[0;36mpandas._libs.hashtable.PyObjectHashTable.get_item\u001b[0;34m()\u001b[0m\n",
      "File \u001b[0;32mpandas/_libs/hashtable_class_helper.pxi:7089\u001b[0m, in \u001b[0;36mpandas._libs.hashtable.PyObjectHashTable.get_item\u001b[0;34m()\u001b[0m\n",
      "\u001b[0;31mKeyError\u001b[0m: 'q_max'",
      "\nThe above exception was the direct cause of the following exception:\n",
      "\u001b[0;31mKeyError\u001b[0m                                  Traceback (most recent call last)",
      "Cell \u001b[0;32mIn[14], line 11\u001b[0m\n\u001b[1;32m      7\u001b[0m adsorbants \u001b[38;5;241m=\u001b[39m {}\n\u001b[1;32m      8\u001b[0m \u001b[38;5;28;01mfor\u001b[39;00m _, row \u001b[38;5;129;01min\u001b[39;00m df\u001b[38;5;241m.\u001b[39miterrows():\n\u001b[1;32m      9\u001b[0m     ads \u001b[38;5;241m=\u001b[39m Adsorbent_Langmuir(\n\u001b[1;32m     10\u001b[0m         name\u001b[38;5;241m=\u001b[39mrow[\u001b[38;5;124m\"\u001b[39m\u001b[38;5;124mname\u001b[39m\u001b[38;5;124m\"\u001b[39m],\n\u001b[0;32m---> 11\u001b[0m         q_max\u001b[38;5;241m=\u001b[39m\u001b[43mrow\u001b[49m\u001b[43m[\u001b[49m\u001b[38;5;124;43m\"\u001b[39;49m\u001b[38;5;124;43mq_max\u001b[39;49m\u001b[38;5;124;43m\"\u001b[39;49m\u001b[43m]\u001b[49m,\n\u001b[1;32m     12\u001b[0m         K0\u001b[38;5;241m=\u001b[39mrow[\u001b[38;5;124m\"\u001b[39m\u001b[38;5;124mK0\u001b[39m\u001b[38;5;124m\"\u001b[39m],\n\u001b[1;32m     13\u001b[0m         Ea\u001b[38;5;241m=\u001b[39mrow[\u001b[38;5;124m\"\u001b[39m\u001b[38;5;124mEa\u001b[39m\u001b[38;5;124m\"\u001b[39m],\n\u001b[1;32m     14\u001b[0m         k_ads\u001b[38;5;241m=\u001b[39mrow[\u001b[38;5;124m\"\u001b[39m\u001b[38;5;124mk_ads\u001b[39m\u001b[38;5;124m\"\u001b[39m],\n\u001b[1;32m     15\u001b[0m         density\u001b[38;5;241m=\u001b[39mrow[\u001b[38;5;124m\"\u001b[39m\u001b[38;5;124mdensity\u001b[39m\u001b[38;5;124m\"\u001b[39m]\n\u001b[1;32m     16\u001b[0m     )\n\u001b[1;32m     17\u001b[0m     adsorbants[row[\u001b[38;5;124m\"\u001b[39m\u001b[38;5;124mname\u001b[39m\u001b[38;5;124m\"\u001b[39m]] \u001b[38;5;241m=\u001b[39m ads\n\u001b[1;32m     18\u001b[0m \u001b[38;5;66;03m#a list of all the registered adsorbents is created\u001b[39;00m\n",
      "File \u001b[0;32m/opt/anaconda3/envs/adsorpsim/lib/python3.10/site-packages/pandas/core/series.py:1121\u001b[0m, in \u001b[0;36mSeries.__getitem__\u001b[0;34m(self, key)\u001b[0m\n\u001b[1;32m   1118\u001b[0m     \u001b[38;5;28;01mreturn\u001b[39;00m \u001b[38;5;28mself\u001b[39m\u001b[38;5;241m.\u001b[39m_values[key]\n\u001b[1;32m   1120\u001b[0m \u001b[38;5;28;01melif\u001b[39;00m key_is_scalar:\n\u001b[0;32m-> 1121\u001b[0m     \u001b[38;5;28;01mreturn\u001b[39;00m \u001b[38;5;28;43mself\u001b[39;49m\u001b[38;5;241;43m.\u001b[39;49m\u001b[43m_get_value\u001b[49m\u001b[43m(\u001b[49m\u001b[43mkey\u001b[49m\u001b[43m)\u001b[49m\n\u001b[1;32m   1123\u001b[0m \u001b[38;5;66;03m# Convert generator to list before going through hashable part\u001b[39;00m\n\u001b[1;32m   1124\u001b[0m \u001b[38;5;66;03m# (We will iterate through the generator there to check for slices)\u001b[39;00m\n\u001b[1;32m   1125\u001b[0m \u001b[38;5;28;01mif\u001b[39;00m is_iterator(key):\n",
      "File \u001b[0;32m/opt/anaconda3/envs/adsorpsim/lib/python3.10/site-packages/pandas/core/series.py:1237\u001b[0m, in \u001b[0;36mSeries._get_value\u001b[0;34m(self, label, takeable)\u001b[0m\n\u001b[1;32m   1234\u001b[0m     \u001b[38;5;28;01mreturn\u001b[39;00m \u001b[38;5;28mself\u001b[39m\u001b[38;5;241m.\u001b[39m_values[label]\n\u001b[1;32m   1236\u001b[0m \u001b[38;5;66;03m# Similar to Index.get_value, but we do not fall back to positional\u001b[39;00m\n\u001b[0;32m-> 1237\u001b[0m loc \u001b[38;5;241m=\u001b[39m \u001b[38;5;28;43mself\u001b[39;49m\u001b[38;5;241;43m.\u001b[39;49m\u001b[43mindex\u001b[49m\u001b[38;5;241;43m.\u001b[39;49m\u001b[43mget_loc\u001b[49m\u001b[43m(\u001b[49m\u001b[43mlabel\u001b[49m\u001b[43m)\u001b[49m\n\u001b[1;32m   1239\u001b[0m \u001b[38;5;28;01mif\u001b[39;00m is_integer(loc):\n\u001b[1;32m   1240\u001b[0m     \u001b[38;5;28;01mreturn\u001b[39;00m \u001b[38;5;28mself\u001b[39m\u001b[38;5;241m.\u001b[39m_values[loc]\n",
      "File \u001b[0;32m/opt/anaconda3/envs/adsorpsim/lib/python3.10/site-packages/pandas/core/indexes/base.py:3812\u001b[0m, in \u001b[0;36mIndex.get_loc\u001b[0;34m(self, key)\u001b[0m\n\u001b[1;32m   3807\u001b[0m     \u001b[38;5;28;01mif\u001b[39;00m \u001b[38;5;28misinstance\u001b[39m(casted_key, \u001b[38;5;28mslice\u001b[39m) \u001b[38;5;129;01mor\u001b[39;00m (\n\u001b[1;32m   3808\u001b[0m         \u001b[38;5;28misinstance\u001b[39m(casted_key, abc\u001b[38;5;241m.\u001b[39mIterable)\n\u001b[1;32m   3809\u001b[0m         \u001b[38;5;129;01mand\u001b[39;00m \u001b[38;5;28many\u001b[39m(\u001b[38;5;28misinstance\u001b[39m(x, \u001b[38;5;28mslice\u001b[39m) \u001b[38;5;28;01mfor\u001b[39;00m x \u001b[38;5;129;01min\u001b[39;00m casted_key)\n\u001b[1;32m   3810\u001b[0m     ):\n\u001b[1;32m   3811\u001b[0m         \u001b[38;5;28;01mraise\u001b[39;00m InvalidIndexError(key)\n\u001b[0;32m-> 3812\u001b[0m     \u001b[38;5;28;01mraise\u001b[39;00m \u001b[38;5;167;01mKeyError\u001b[39;00m(key) \u001b[38;5;28;01mfrom\u001b[39;00m\u001b[38;5;250m \u001b[39m\u001b[38;5;21;01merr\u001b[39;00m\n\u001b[1;32m   3813\u001b[0m \u001b[38;5;28;01mexcept\u001b[39;00m \u001b[38;5;167;01mTypeError\u001b[39;00m:\n\u001b[1;32m   3814\u001b[0m     \u001b[38;5;66;03m# If we have a listlike key, _check_indexing_error will raise\u001b[39;00m\n\u001b[1;32m   3815\u001b[0m     \u001b[38;5;66;03m#  InvalidIndexError. Otherwise we fall through and re-raise\u001b[39;00m\n\u001b[1;32m   3816\u001b[0m     \u001b[38;5;66;03m#  the TypeError.\u001b[39;00m\n\u001b[1;32m   3817\u001b[0m     \u001b[38;5;28mself\u001b[39m\u001b[38;5;241m.\u001b[39m_check_indexing_error(key)\n",
      "\u001b[0;31mKeyError\u001b[0m: 'q_max'"
     ]
    }
   ],
   "source": [
    "#the data are loaded: are the data consist of different adsorbents with their physical properties\n",
    "current_file = Path(os.path.abspath(''))\n",
    "csv_file = current_file.parent / \"data\" / \"Dataset PPC.csv\"\n",
    "#the data are downloaded\n",
    "df = download_data(csv_file)\n",
    "#a dictionnary indexed by the adsorbents names is created, there is an entry for each adsorbent present in the dataset\n",
    "adsorbants = {}\n",
    "for _, row in df.iterrows():\n",
    "    ads = Adsorbent_Langmuir(\n",
    "        name=row[\"name\"],\n",
    "        q_max=row[\"q_max\"],\n",
    "        K0=row[\"K0\"],\n",
    "        Ea=row[\"Ea\"],\n",
    "        k_ads=row[\"k_ads\"],\n",
    "        density=row[\"density\"]\n",
    "    )\n",
    "    adsorbants[row[\"name\"]] = ads\n",
    "#a list of all the registered adsorbents is created\n",
    "list_adsorbents = list(adsorbants.keys())"
   ]
  },
  {
   "cell_type": "markdown",
   "id": "65f67b03",
   "metadata": {},
   "source": [
    "### 4. Presentation of the UI and the different app's tools \n",
    "\n",
    "In this chapter, the different elements in the user's interface and their utility will be described as follows: \n",
    "\n",
    "<ol type=\"a\">\n",
    "    <li> The bed parameters modifications </li>\n",
    "    <li> The adsorbent parameters modifications</li>\n",
    "    <li> The plotting of the graph</li>\n",
    "    <li> The adsorbed quantity of carbon dioxide</li>\n",
    "    <li> The possibility to add an adsorbent to the data</li> \n",
    "</ol>"
   ]
  },
  {
   "cell_type": "markdown",
   "id": "7c2e24ef",
   "metadata": {},
   "source": [
    "#### a. The bed parameters modifications\n",
    "\n",
    "<div style=\"text-align: center;\">\n",
    "<img src=\"Bed.png\" alt=\"UI\" width=\"400\"/>\n",
    "</div>"
   ]
  },
  {
   "cell_type": "markdown",
   "id": "e66ab6e4",
   "metadata": {},
   "source": [
    "The user is let to choose the bed parameters. This parameters are defined by different sliders with maximum and minimum values. The temperature is defined with a \"number_input\" widget. \n",
    "\n",
    "The bed length and diameter changes the volume of the installation whiyh changes the total quantity of adsorbent as we assume that the bed is full of material. \n",
    "\n",
    "The flowrates influence the speed at which the air is let trhough the cartridge. For optimal results, the flowrate should not exceed the speed of the adsorption reaction. \n",
    "\n",
    "The number of segments determines the discretisation of the bed. A higher number of esegemnts will allow more precise results but implies more complex calculations.\n",
    "\n",
    "The total time determines the time of the experiment. \n",
    "\n",
    "T is the temperature of the experiment. Colder temperatures will favorize adsorption while hotter temperature will accelerate the desorption.\n",
    "\n",
    "And finally, the \"percentage_CO2\" is defined between 1 and 100% and represents the desired percentage of adsorbent saturated in CO₂. This value is used to calculate the coordinates of the red cross. "
   ]
  },
  {
   "cell_type": "code",
   "execution_count": null,
   "id": "9af545ad",
   "metadata": {},
   "outputs": [],
   "source": [
    "#Title\n",
    "st.title('Adsorption Breakthrough Curve Simulator')\n",
    "st.caption(\"Practical Proramming In Chemistry - Project\")\n",
    "st.markdown(\"Julian Barth, Marin Deasgeans, Lucas Eichenbegrer\")\n",
    "\n",
    "#the bed parameters are chosen from the user's interface with defaults settings\n",
    "st.header('Simulation Parameters')\n",
    "col1, col2 = st.columns([1, 1])\n",
    "with col1:\n",
    "    length = st.slider('Bed Length (m)', 0.1, 5.0, 1.0)\n",
    "    diameter = st.slider('Bed Diameter (m)', 0.01, 0.5, 0.1)\n",
    "    flow_rate = st.slider('Flow Rate (m³/s)', 0.001, 0.1, 0.01)\n",
    "with col2:\n",
    "    num_segments = st.slider('Number of Segments', 10, 500, 100)\n",
    "    total_time = st.slider('Total Simulation Time (s)', 100, 10000, 3000)\n",
    "    T = st.number_input(\"Temperature (K)\", 298.15, step = 10.0)\n",
    "#a percentage of wanted saturated adsorbent is defined\n",
    "#this will be further used to calculate the quantity of fixed CO2 depending on the capacity's fraction\n",
    "percentage_CO2 = st.slider(\"Percentage of adsorbent saturated in CO₂\", 1, 100, 90)"
   ]
  },
  {
   "cell_type": "markdown",
   "id": "32c19254",
   "metadata": {},
   "source": [
    "#### b. The adsorbent parameters modifications\n",
    "\n",
    "<div style=\"text-align: center;\">\n",
    "<img src=\"List.png\" alt=\"UI\" width=\"400\"/>\n",
    "</div>"
   ]
  },
  {
   "cell_type": "markdown",
   "id": "e1243c2c",
   "metadata": {},
   "source": [
    "Five physical properties are mandatory for each adsorbent:\n",
    "\n",
    "-q_max represents...\n",
    "\n",
    "-K0 ...\n",
    "\n",
    "-Ea is the activation energy of the adsorbent, ...\n",
    "\n",
    "-k_ads ...\n",
    "\n",
    "-density is the density of the adsorbent is directly proportionate to the quantity of adsorbent in one cartridge.\n",
    "\n",
    "The user is let to choose one adsorbent among the different species present in the dataset. Each adsorbent is linked to its properties: choosing one will automatically insert the good values for each physical property. \n",
    "\n",
    "The user also have the choice to choose \"Manual Modifications\". In this case, the user can modify the different parameters from the user's interface and curve will adapt with the implemented values."
   ]
  },
  {
   "cell_type": "code",
   "execution_count": null,
   "id": "1c99e0f1",
   "metadata": {},
   "outputs": [],
   "source": [
    "#the user is invited to choose an adsorbent among the previously prepared list\n",
    "#the \"Manual Manipulations\" setting is added to propose the possibility to change parameters manually\n",
    "st.sidebar.header(\"List of registered adsorbant\")\n",
    "choix = st.sidebar.selectbox(\n",
    "    \"Choose an adsorbent\",\n",
    "    [\"Manual Modifications\"]+list_adsorbents,\n",
    "    index=1\n",
    ")\n",
    "#code for the manual modifications setting:\n",
    "if choix==\"Manual Modifications\":\n",
    "    #the adsorbent parameters are chosen from the user's interface with defaults settings\n",
    "    st.sidebar.header('Adsorbent Properties')\n",
    "    q_max = st.sidebar.number_input('q_max (mol/kg)', value=1.0, step=1.0)\n",
    "    K0 = st.sidebar.number_input('K (1/(mol/m³))', value=10000.0,step=10000.0)\n",
    "    Ea = st.sidebar.number_input(\"Ea (J)\", value=10000.0,step=10000.0)\n",
    "    k_ads = st.sidebar.number_input('k_ads (1/s)', value=0.01,format=\"%.4f\",step=0.0100)\n",
    "    density = st.sidebar.number_input('Density (kg/m³)', value=100.0,step=100.0)\n",
    "    # Create adsorbent\n",
    "    adsorbent = Adsorbent_Langmuir(\n",
    "    name=\"Manual adsorbant\",\n",
    "    q_max=q_max,\n",
    "    K0=K0,\n",
    "    Ea=Ea,\n",
    "    k_ads=k_ads,\n",
    "    density=density\n",
    "    )\n",
    "    #create bed\n",
    "    bed = Bed(\n",
    "    length=length,\n",
    "    diameter=diameter,\n",
    "    flow_rate=flow_rate,\n",
    "    num_segments=num_segments,\n",
    "    total_time=total_time,\n",
    "    adsorbent=adsorbent,\n",
    "    T=T\n",
    ")\n",
    "#code for the adsorbents registered in the dataset\n",
    "else:\n",
    "    #adsorbent parameters\n",
    "    st.sidebar.header('Adsorbent Properties')\n",
    "    q_max_fixed = st.sidebar.number_input('q_max (mol/kg)', value=adsorbants[choix].q_max , disabled=True, step=1.0)\n",
    "    K0_fixed = st.sidebar.number_input('K (1/(mol/m³))', value=adsorbants[choix].K0 , disabled=True,step=10000.0)\n",
    "    Ea_fixed = st.sidebar.number_input((\"Ea (J)\"), value=adsorbants[choix].Ea , disabled=True,step=10000.0)\n",
    "    k_ads_fixed = st.sidebar.number_input('k_ads (1/s)', value=adsorbants[choix].k_ads , disabled=True,format=\"%.4f\",step=0.01)\n",
    "    density_fixed = st.sidebar.number_input('Density (kg/m³)', value=adsorbants[choix].density , disabled=True,step=100.0)\n",
    "    # Select adsorbent in the previously created dictionnary\n",
    "    adsorbent = adsorbants[choix]\n",
    "    #create bed\n",
    "    bed = Bed(\n",
    "    length=length,\n",
    "    diameter=diameter,\n",
    "    flow_rate=flow_rate,\n",
    "    num_segments=num_segments,\n",
    "    total_time=total_time,\n",
    "    adsorbent=adsorbent,\n",
    "    T=T\n",
    ")"
   ]
  },
  {
   "cell_type": "markdown",
   "id": "2afd180a",
   "metadata": {},
   "source": [
    "#### c. The plotting of the graph\n",
    "\n",
    "<div style=\"text-align: center;\">\n",
    "<img src=\"Graph.png\" alt=\"UI\" width=\"400\"/>\n",
    "</div>"
   ]
  },
  {
   "cell_type": "markdown",
   "id": "b4539901",
   "metadata": {},
   "source": [
    "Different previously presented functions are called to draw the breakthrough curve. The red cross is here observed at the point were 90% of the adsorbent is saturated in CO₂."
   ]
  },
  {
   "cell_type": "code",
   "execution_count": null,
   "id": "887f238f",
   "metadata": {},
   "outputs": [],
   "source": [
    "#different values needed for plotting the graph are calculated using functions that are shown in \"core.py\"\n",
    "t, outlet_conc = bed.simulate(plot=False)\n",
    "pc_point_x, pc_point_y = get_percentage_point(percentage_CO2,t,outlet_conc)\n",
    "#a toggle to show or not the graph is created\n",
    "on_off = st.toggle(\"Show the graph\", value=True)\n",
    "if on_off:\n",
    "    st.pyplot(plot_the_graph(t,outlet_conc,pc_point_x,pc_point_y))"
   ]
  },
  {
   "cell_type": "markdown",
   "id": "000eee0c",
   "metadata": {},
   "source": [
    "#### d. The adsorbed quantity of carbon dioxide\n",
    "\n",
    "<div style=\"text-align: center;\">\n",
    "<img src=\"Quantities.png\" alt=\"UI\" width=\"400\"/>\n",
    "</div>"
   ]
  },
  {
   "cell_type": "markdown",
   "id": "7ccf4dc0",
   "metadata": {},
   "source": [
    "The adsorbed quantity of CO₂ is calculated in moles using the previously presented function. The quantity in kilogramms is easily calculated using CO₂ molar mass. The needed time, which corresponds to the x coordinate of the red cross is also displayed. \n",
    "\n",
    "All these values are impacted by both the bed and the adsorbent parameters. Changing on of them will directly recalculate the different quantities, exhibiting the efficiency of the chosen system. "
   ]
  },
  {
   "cell_type": "code",
   "execution_count": null,
   "id": "aeae7ca3",
   "metadata": {},
   "outputs": [],
   "source": [
    "st.write(\"If the experiment is stopped where the red cross is, the following CO₂ quantities would be absorbed\")\n",
    "col11, col22 = st.columns([1, 1])\n",
    "#in the left part, the quantity of matter of captured CO2 and the acquisition time are shown\n",
    "with col11:\n",
    "    #in this tile, the quantity of matter of adsorbed CO2 is calculated and shown\n",
    "    tile1=st.container(height = 120)\n",
    "    adsorbed_quantity=get_adsorbed_quantity(t,outlet_conc,pc_point_x,pc_point_y,flow_rate)\n",
    "    tile1.metric(\"Quantity of adsorbed CO₂ in one cycle\", f\"{round(adsorbed_quantity, 2)} [mol]\")\n",
    "    #in this tile, the time of acquisition is shown. It was deducted from the x coordinate of the red cross\n",
    "    tile3=st.container(height=120)\n",
    "    tile3.metric(\"Acquisition time\", f\"{round(pc_point_x/60)} [min]\")\n",
    "#in the right part, the mass of captured CO2 is shown\n",
    "with col22:\n",
    "    tile2=st.container(height = 120)\n",
    "    tile2.metric(\"Mass of adsorbed CO₂ in one cycle\", f\"{round(adsorbed_quantity*0.044009, 2)} [kg]\")"
   ]
  },
  {
   "cell_type": "markdown",
   "id": "2fcdf0bc",
   "metadata": {},
   "source": [
    "#### e. The possibility to add an adsorbent to the data\n",
    "\n",
    "<div style=\"text-align: center;\">\n",
    "<img src=\"Add.png\" alt=\"UI\" width=\"400\"/>\n",
    "</div>"
   ]
  },
  {
   "cell_type": "markdown",
   "id": "6b8d53bd",
   "metadata": {},
   "source": [
    "Finally, the user is let to add an adsorbent to the list directly from the app. In order to do this, he must fill the differents widgets, giving the name and the physical properties of the adsorbent. If he forgets one an error message will show up, otherwise, the adsorbent will successfully be added to the dataset and will be available for usage after a quick refresh of the page."
   ]
  },
  {
   "cell_type": "code",
   "execution_count": null,
   "id": "bde45f87",
   "metadata": {},
   "outputs": [],
   "source": [
    "#Bonus sidebar: the user has the possibility to implement an adsorbents in the dataset directly from the app\n",
    "st.sidebar.header(\"Add an adsorbent to the list\")\n",
    "#the constants of the adsorbent has to be listed\n",
    "with st.sidebar.form(\"Ajout adsorbent\"):\n",
    "    add_ads_name = st.text_input(\"name\")\n",
    "    add_ads_q_max = st.number_input(\"q_max (mol/kg)\")\n",
    "    add_ads_K0 = st.number_input(\"K0 (1/(mol/m³))\")\n",
    "    add_ads_Ea = st.number_input(\"Ea (J)\")\n",
    "    add_ads_k_ads = st.number_input(\"k_ads (1/s)\")\n",
    "    add_ads_density = st.number_input(\"density (kg/m³)\")\n",
    "    #the use of a form ensures the app will not rerun after each input but only after the button is pressed\n",
    "    submitted = st.form_submit_button(\"Add the adsorbent to the list\")\n",
    "#when the button is pressed, the programm will either notify a missing information or add the adsorbent in the dataset\n",
    "if submitted:\n",
    "    if add_ads_name==\"\" or add_ads_q_max==0 or add_ads_K0==0 or add_ads_Ea==0 or add_ads_k_ads==0 or add_ads_density==0:\n",
    "        st.sidebar.error(\"there is missing parameter(s)\")\n",
    "    else:\n",
    "        #add the adsorbent to the .csv file\n",
    "        add_adsorbent_to_list(csv_file,add_ads_name,add_ads_q_max,add_ads_K0,add_ads_Ea,k_ads,add_ads_density)\n",
    "        st.sidebar.success(\"The adsorbent was added to the list, please refresh the page (Ctrl+R)\")"
   ]
  },
  {
   "cell_type": "markdown",
   "id": "9628490b",
   "metadata": {},
   "source": [
    "### 5. Conclusion\n",
    "\n"
   ]
  },
  {
   "cell_type": "markdown",
   "id": "87a73c33",
   "metadata": {},
   "source": [
    "### 6. Acknowledgments\n",
    "\n",
    "We thank the **EPFL Carbon Team**, especially the Chemistry subteam Panoramix, for providing experimental data acquired in **Professor Wendy Queen’s** lab. Their contributions were essential for validating and grounding our simulator in real-world performance."
   ]
  }
 ],
 "metadata": {
  "kernelspec": {
   "display_name": "adsorpsim",
   "language": "python",
   "name": "python3"
  },
  "language_info": {
   "codemirror_mode": {
    "name": "ipython",
    "version": 3
   },
   "file_extension": ".py",
   "mimetype": "text/x-python",
   "name": "python",
   "nbconvert_exporter": "python",
   "pygments_lexer": "ipython3",
   "version": "3.10.16"
  }
 },
 "nbformat": 4,
 "nbformat_minor": 5
}
